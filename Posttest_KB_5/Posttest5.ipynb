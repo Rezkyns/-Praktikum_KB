{
 "cells": [
  {
   "cell_type": "code",
   "execution_count": 3,
   "id": "cfab08cc-32bd-4423-831a-0d77f66d1eab",
   "metadata": {},
   "outputs": [],
   "source": [
    "import pandas as pd\n",
    "from matplotlib import pyplot as plt\n",
    "import seaborn as sns\n",
    "from sklearn.model_selection import train_test_split\n",
    "import numpy as np"
   ]
  },
  {
   "cell_type": "code",
   "execution_count": 4,
   "id": "015fef29-6c65-4602-92fd-e7416bd98aaa",
   "metadata": {},
   "outputs": [],
   "source": [
    "df = pd.read_csv('thomascup_2022_tweets.csv')"
   ]
  },
  {
   "cell_type": "code",
   "execution_count": 5,
   "id": "42d0fc5c-8a61-414a-8786-1f434ae25c1c",
   "metadata": {},
   "outputs": [
    {
     "data": {
      "text/html": [
       "<div>\n",
       "<style scoped>\n",
       "    .dataframe tbody tr th:only-of-type {\n",
       "        vertical-align: middle;\n",
       "    }\n",
       "\n",
       "    .dataframe tbody tr th {\n",
       "        vertical-align: top;\n",
       "    }\n",
       "\n",
       "    .dataframe thead th {\n",
       "        text-align: right;\n",
       "    }\n",
       "</style>\n",
       "<table border=\"1\" class=\"dataframe\">\n",
       "  <thead>\n",
       "    <tr style=\"text-align: right;\">\n",
       "      <th></th>\n",
       "      <th>id</th>\n",
       "      <th>text</th>\n",
       "      <th>username</th>\n",
       "      <th>hashtags</th>\n",
       "      <th>created_at</th>\n",
       "      <th>user followers count</th>\n",
       "      <th>replycount</th>\n",
       "      <th>retweetcount</th>\n",
       "      <th>likecount</th>\n",
       "      <th>quotecount</th>\n",
       "      <th>language</th>\n",
       "      <th>quotedtweet</th>\n",
       "      <th>inReplyToTweetId</th>\n",
       "      <th>inReplyToUser</th>\n",
       "      <th>mentionedUsers</th>\n",
       "    </tr>\n",
       "  </thead>\n",
       "  <tbody>\n",
       "    <tr>\n",
       "      <th>0</th>\n",
       "      <td>1529235395812155392</td>\n",
       "      <td>India has won the Thomas cup,  @nikhat_zareen ...</td>\n",
       "      <td>themohanty_</td>\n",
       "      <td>['India', 'IndianEra']</td>\n",
       "      <td>2022-05-24 22:58:24+00:00</td>\n",
       "      <td>43</td>\n",
       "      <td>0</td>\n",
       "      <td>0</td>\n",
       "      <td>3</td>\n",
       "      <td>0</td>\n",
       "      <td>en</td>\n",
       "      <td>NaN</td>\n",
       "      <td>NaN</td>\n",
       "      <td>NaN</td>\n",
       "      <td>India has won the Thomas cup,  @nikhat_zareen ...</td>\n",
       "    </tr>\n",
       "    <tr>\n",
       "      <th>1</th>\n",
       "      <td>1528224948111941633</td>\n",
       "      <td>PM’s interaction with Thomas Cup Champions is ...</td>\n",
       "      <td>goikarpk</td>\n",
       "      <td>['India', 'ThomasCup']</td>\n",
       "      <td>2022-05-22 04:03:15+00:00</td>\n",
       "      <td>51</td>\n",
       "      <td>0</td>\n",
       "      <td>0</td>\n",
       "      <td>1</td>\n",
       "      <td>0</td>\n",
       "      <td>en</td>\n",
       "      <td>NaN</td>\n",
       "      <td>NaN</td>\n",
       "      <td>NaN</td>\n",
       "      <td>PM’s interaction with Thomas Cup Champions is ...</td>\n",
       "    </tr>\n",
       "    <tr>\n",
       "      <th>2</th>\n",
       "      <td>1527216966171144193</td>\n",
       "      <td>India won maiden Thomas Cup after defeating 14...</td>\n",
       "      <td>BeShararat</td>\n",
       "      <td>['ThomasCup', 'India', 'ThomasUberCup2022']</td>\n",
       "      <td>2022-05-19 09:17:53+00:00</td>\n",
       "      <td>4</td>\n",
       "      <td>0</td>\n",
       "      <td>1</td>\n",
       "      <td>1</td>\n",
       "      <td>0</td>\n",
       "      <td>en</td>\n",
       "      <td>NaN</td>\n",
       "      <td>NaN</td>\n",
       "      <td>NaN</td>\n",
       "      <td>India won maiden Thomas Cup after defeating 14...</td>\n",
       "    </tr>\n",
       "    <tr>\n",
       "      <th>3</th>\n",
       "      <td>1526912239910785024</td>\n",
       "      <td>#India's bunch of exceptionally proficient #Ba...</td>\n",
       "      <td>aaiprayagraj</td>\n",
       "      <td>['India', 'Badminton', 'ThomasCup2022', 'Bangk...</td>\n",
       "      <td>2022-05-18 13:07:01+00:00</td>\n",
       "      <td>1553</td>\n",
       "      <td>0</td>\n",
       "      <td>1</td>\n",
       "      <td>1</td>\n",
       "      <td>0</td>\n",
       "      <td>en</td>\n",
       "      <td>NaN</td>\n",
       "      <td>NaN</td>\n",
       "      <td>NaN</td>\n",
       "      <td>#India's bunch of exceptionally proficient #Ba...</td>\n",
       "    </tr>\n",
       "    <tr>\n",
       "      <th>4</th>\n",
       "      <td>1526893293136924672</td>\n",
       "      <td>#India's bunch of exceptionally proficient #Ba...</td>\n",
       "      <td>aaisapairport</td>\n",
       "      <td>['India', 'Badminton', 'ThomasCup2022', 'Bangk...</td>\n",
       "      <td>2022-05-18 11:51:44+00:00</td>\n",
       "      <td>1192</td>\n",
       "      <td>0</td>\n",
       "      <td>0</td>\n",
       "      <td>0</td>\n",
       "      <td>0</td>\n",
       "      <td>en</td>\n",
       "      <td>NaN</td>\n",
       "      <td>NaN</td>\n",
       "      <td>NaN</td>\n",
       "      <td>#India's bunch of exceptionally proficient #Ba...</td>\n",
       "    </tr>\n",
       "    <tr>\n",
       "      <th>5</th>\n",
       "      <td>1526498843566952448</td>\n",
       "      <td>India won by 3-0 from Indonesia and Greenit is...</td>\n",
       "      <td>greenitfoods</td>\n",
       "      <td>['ThomasCup2022', 'ThomasCup', 'Greenit', 'Ind...</td>\n",
       "      <td>2022-05-17 09:44:19+00:00</td>\n",
       "      <td>4</td>\n",
       "      <td>0</td>\n",
       "      <td>0</td>\n",
       "      <td>2</td>\n",
       "      <td>0</td>\n",
       "      <td>en</td>\n",
       "      <td>NaN</td>\n",
       "      <td>NaN</td>\n",
       "      <td>NaN</td>\n",
       "      <td>India won by 3-0 from Indonesia and Greenit is...</td>\n",
       "    </tr>\n",
       "    <tr>\n",
       "      <th>6</th>\n",
       "      <td>1526426936909570049</td>\n",
       "      <td>Many many congratulations to Indian team for w...</td>\n",
       "      <td>AenSaharan</td>\n",
       "      <td>['ThomasCup2022', 'BadmintonIndonesia', 'Thoma...</td>\n",
       "      <td>2022-05-17 04:58:36+00:00</td>\n",
       "      <td>12</td>\n",
       "      <td>0</td>\n",
       "      <td>0</td>\n",
       "      <td>0</td>\n",
       "      <td>0</td>\n",
       "      <td>en</td>\n",
       "      <td>NaN</td>\n",
       "      <td>NaN</td>\n",
       "      <td>NaN</td>\n",
       "      <td>Many many congratulations to Indian team for w...</td>\n",
       "    </tr>\n",
       "    <tr>\n",
       "      <th>7</th>\n",
       "      <td>1526288164754702336</td>\n",
       "      <td>@ANI Historic: #India🇮🇳 won #ThomasCup for fir...</td>\n",
       "      <td>Mittul_253</td>\n",
       "      <td>['India', 'ThomasCup', 'Indonesia', 'Proud_Ind...</td>\n",
       "      <td>2022-05-16 19:47:10+00:00</td>\n",
       "      <td>141</td>\n",
       "      <td>0</td>\n",
       "      <td>2</td>\n",
       "      <td>12</td>\n",
       "      <td>0</td>\n",
       "      <td>en</td>\n",
       "      <td>NaN</td>\n",
       "      <td>1.526288e+18</td>\n",
       "      <td>https://twitter.com/ANI</td>\n",
       "      <td>@ANI Historic: #India🇮🇳 won #ThomasCup for fir...</td>\n",
       "    </tr>\n",
       "    <tr>\n",
       "      <th>8</th>\n",
       "      <td>1526259384099405824</td>\n",
       "      <td>The nation stands thrilled as the Indian #Badm...</td>\n",
       "      <td>ThatBenzeneRing</td>\n",
       "      <td>['Badminton', 'ThomasCup', 'India', 'History']</td>\n",
       "      <td>2022-05-16 17:52:48+00:00</td>\n",
       "      <td>59</td>\n",
       "      <td>0</td>\n",
       "      <td>8</td>\n",
       "      <td>10</td>\n",
       "      <td>0</td>\n",
       "      <td>en</td>\n",
       "      <td>NaN</td>\n",
       "      <td>NaN</td>\n",
       "      <td>NaN</td>\n",
       "      <td>The nation stands thrilled as the Indian #Badm...</td>\n",
       "    </tr>\n",
       "    <tr>\n",
       "      <th>9</th>\n",
       "      <td>1526229405038616576</td>\n",
       "      <td>Congrats to #IndianBadmintonTeam on the histor...</td>\n",
       "      <td>Indian_Rainman</td>\n",
       "      <td>['IndianBadmintonTeam', 'ThomasCup2022', 'Thom...</td>\n",
       "      <td>2022-05-16 15:53:40+00:00</td>\n",
       "      <td>5376</td>\n",
       "      <td>0</td>\n",
       "      <td>1</td>\n",
       "      <td>9</td>\n",
       "      <td>0</td>\n",
       "      <td>en</td>\n",
       "      <td>NaN</td>\n",
       "      <td>NaN</td>\n",
       "      <td>NaN</td>\n",
       "      <td>Congrats to #IndianBadmintonTeam on the histor...</td>\n",
       "    </tr>\n",
       "  </tbody>\n",
       "</table>\n",
       "</div>"
      ],
      "text/plain": [
       "                    id                                               text  \\\n",
       "0  1529235395812155392  India has won the Thomas cup,  @nikhat_zareen ...   \n",
       "1  1528224948111941633  PM’s interaction with Thomas Cup Champions is ...   \n",
       "2  1527216966171144193  India won maiden Thomas Cup after defeating 14...   \n",
       "3  1526912239910785024  #India's bunch of exceptionally proficient #Ba...   \n",
       "4  1526893293136924672  #India's bunch of exceptionally proficient #Ba...   \n",
       "5  1526498843566952448  India won by 3-0 from Indonesia and Greenit is...   \n",
       "6  1526426936909570049  Many many congratulations to Indian team for w...   \n",
       "7  1526288164754702336  @ANI Historic: #India🇮🇳 won #ThomasCup for fir...   \n",
       "8  1526259384099405824  The nation stands thrilled as the Indian #Badm...   \n",
       "9  1526229405038616576  Congrats to #IndianBadmintonTeam on the histor...   \n",
       "\n",
       "          username                                           hashtags  \\\n",
       "0      themohanty_                             ['India', 'IndianEra']   \n",
       "1         goikarpk                             ['India', 'ThomasCup']   \n",
       "2       BeShararat        ['ThomasCup', 'India', 'ThomasUberCup2022']   \n",
       "3     aaiprayagraj  ['India', 'Badminton', 'ThomasCup2022', 'Bangk...   \n",
       "4    aaisapairport  ['India', 'Badminton', 'ThomasCup2022', 'Bangk...   \n",
       "5     greenitfoods  ['ThomasCup2022', 'ThomasCup', 'Greenit', 'Ind...   \n",
       "6       AenSaharan  ['ThomasCup2022', 'BadmintonIndonesia', 'Thoma...   \n",
       "7       Mittul_253  ['India', 'ThomasCup', 'Indonesia', 'Proud_Ind...   \n",
       "8  ThatBenzeneRing     ['Badminton', 'ThomasCup', 'India', 'History']   \n",
       "9   Indian_Rainman  ['IndianBadmintonTeam', 'ThomasCup2022', 'Thom...   \n",
       "\n",
       "                  created_at  user followers count  replycount  retweetcount  \\\n",
       "0  2022-05-24 22:58:24+00:00                    43           0             0   \n",
       "1  2022-05-22 04:03:15+00:00                    51           0             0   \n",
       "2  2022-05-19 09:17:53+00:00                     4           0             1   \n",
       "3  2022-05-18 13:07:01+00:00                  1553           0             1   \n",
       "4  2022-05-18 11:51:44+00:00                  1192           0             0   \n",
       "5  2022-05-17 09:44:19+00:00                     4           0             0   \n",
       "6  2022-05-17 04:58:36+00:00                    12           0             0   \n",
       "7  2022-05-16 19:47:10+00:00                   141           0             2   \n",
       "8  2022-05-16 17:52:48+00:00                    59           0             8   \n",
       "9  2022-05-16 15:53:40+00:00                  5376           0             1   \n",
       "\n",
       "   likecount  quotecount language  quotedtweet  inReplyToTweetId  \\\n",
       "0          3           0       en          NaN               NaN   \n",
       "1          1           0       en          NaN               NaN   \n",
       "2          1           0       en          NaN               NaN   \n",
       "3          1           0       en          NaN               NaN   \n",
       "4          0           0       en          NaN               NaN   \n",
       "5          2           0       en          NaN               NaN   \n",
       "6          0           0       en          NaN               NaN   \n",
       "7         12           0       en          NaN      1.526288e+18   \n",
       "8         10           0       en          NaN               NaN   \n",
       "9          9           0       en          NaN               NaN   \n",
       "\n",
       "             inReplyToUser                                     mentionedUsers  \n",
       "0                      NaN  India has won the Thomas cup,  @nikhat_zareen ...  \n",
       "1                      NaN  PM’s interaction with Thomas Cup Champions is ...  \n",
       "2                      NaN  India won maiden Thomas Cup after defeating 14...  \n",
       "3                      NaN  #India's bunch of exceptionally proficient #Ba...  \n",
       "4                      NaN  #India's bunch of exceptionally proficient #Ba...  \n",
       "5                      NaN  India won by 3-0 from Indonesia and Greenit is...  \n",
       "6                      NaN  Many many congratulations to Indian team for w...  \n",
       "7  https://twitter.com/ANI  @ANI Historic: #India🇮🇳 won #ThomasCup for fir...  \n",
       "8                      NaN  The nation stands thrilled as the Indian #Badm...  \n",
       "9                      NaN  Congrats to #IndianBadmintonTeam on the histor...  "
      ]
     },
     "execution_count": 5,
     "metadata": {},
     "output_type": "execute_result"
    }
   ],
   "source": [
    "df.head(10)"
   ]
  },
  {
   "cell_type": "markdown",
   "id": "f0bc88a2-28fb-4e8b-9d1f-ef349d7b5933",
   "metadata": {},
   "source": [
    "## Data Spliting"
   ]
  },
  {
   "cell_type": "code",
   "execution_count": 6,
   "id": "e8907207-44e2-49e7-8d21-52dbd54881da",
   "metadata": {},
   "outputs": [],
   "source": [
    "X = df[['user followers count', 'retweetcount', 'likecount', 'replycount']]\n",
    "Y = df['quotecount']"
   ]
  },
  {
   "cell_type": "code",
   "execution_count": 7,
   "id": "a518d244-0c6a-4f40-9e83-f4229f148933",
   "metadata": {},
   "outputs": [],
   "source": [
    "from sklearn.model_selection import train_test_split"
   ]
  },
  {
   "cell_type": "code",
   "execution_count": 8,
   "id": "a5af97ec-6fa2-4e07-83b8-a271a498a242",
   "metadata": {},
   "outputs": [],
   "source": [
    "X_train, X_test, Y_train, Y_test = train_test_split(X, Y, random_state=0)"
   ]
  },
  {
   "cell_type": "markdown",
   "id": "b0b3145b-796f-4ce0-9485-85d3b145c23c",
   "metadata": {},
   "source": [
    "## 2 Algoritma"
   ]
  },
  {
   "cell_type": "markdown",
   "id": "370165b2-2e56-4602-be62-621f230f45cb",
   "metadata": {},
   "source": [
    "### Decission tree"
   ]
  },
  {
   "cell_type": "code",
   "execution_count": 9,
   "id": "61019838-8a79-4677-a6bf-39df1e2627b5",
   "metadata": {},
   "outputs": [],
   "source": [
    "from sklearn.tree import DecisionTreeClassifier"
   ]
  },
  {
   "cell_type": "code",
   "execution_count": 10,
   "id": "d0539c60-2876-422c-ba0a-abd22ed2a6b4",
   "metadata": {},
   "outputs": [
    {
     "name": "stdout",
     "output_type": "stream",
     "text": [
      "(2426, 4)\n",
      "(7278,)\n"
     ]
    }
   ],
   "source": [
    "print(X_test.shape)\n",
    "print(Y_train.shape)"
   ]
  },
  {
   "cell_type": "code",
   "execution_count": 11,
   "id": "87acdd5f-eadd-48b3-a8d2-8734ace8c3fd",
   "metadata": {},
   "outputs": [],
   "source": [
    "modelDTree = DecisionTreeClassifier().fit (X_train, Y_train)"
   ]
  },
  {
   "cell_type": "code",
   "execution_count": 12,
   "id": "bd98a06e-2c00-4e7a-a583-a37702e84bc8",
   "metadata": {},
   "outputs": [],
   "source": [
    "prediction = modelDTree.predict(X_test)"
   ]
  },
  {
   "cell_type": "code",
   "execution_count": 13,
   "id": "9bc9d4ba-3849-4d12-a495-371b1b9f2a80",
   "metadata": {},
   "outputs": [],
   "source": [
    "import sklearn"
   ]
  },
  {
   "cell_type": "code",
   "execution_count": 14,
   "id": "92ba5166-36f7-4ba8-9d3f-1213b55e1527",
   "metadata": {},
   "outputs": [
    {
     "name": "stdout",
     "output_type": "stream",
     "text": [
      "[[2236   48    6 ...    0    0    0]\n",
      " [  61    7    2 ...    0    0    0]\n",
      " [   4    2    0 ...    0    0    0]\n",
      " ...\n",
      " [   0    0    0 ...    0    0    0]\n",
      " [   0    0    0 ...    0    0    1]\n",
      " [   0    0    0 ...    0    0    0]]\n"
     ]
    }
   ],
   "source": [
    "print(sklearn.metrics.confusion_matrix(Y_test, prediction))"
   ]
  },
  {
   "cell_type": "code",
   "execution_count": 15,
   "id": "53c5ccb8-cff5-4ef4-9ee7-8c47ef7ba485",
   "metadata": {},
   "outputs": [
    {
     "name": "stdout",
     "output_type": "stream",
     "text": [
      "92.53915910964551 %\n"
     ]
    }
   ],
   "source": [
    "print(sklearn.metrics.accuracy_score(Y_test, prediction)*100, '%')"
   ]
  },
  {
   "cell_type": "markdown",
   "id": "8b9c5290-2b33-4971-93b5-02e2ebbc6780",
   "metadata": {},
   "source": [
    "### Linier Regression"
   ]
  },
  {
   "cell_type": "code",
   "execution_count": 16,
   "id": "55060bbe-aaca-4616-8a0a-35c7cc3af74a",
   "metadata": {},
   "outputs": [],
   "source": [
    "from sklearn.linear_model import LinearRegression"
   ]
  },
  {
   "cell_type": "code",
   "execution_count": 17,
   "id": "390169bc-d5f7-49fc-b123-1b553d8cbfa4",
   "metadata": {},
   "outputs": [],
   "source": [
    "x = df[[\"retweetcount\"]]\n",
    "y = df[\"quotecount\"] "
   ]
  },
  {
   "cell_type": "code",
   "execution_count": 18,
   "id": "53976b0c-2600-4690-9ff9-5436dc5ff7e9",
   "metadata": {},
   "outputs": [],
   "source": [
    "x_train, x_test, y_train, y_test = train_test_split(x, y, random_state=0)"
   ]
  },
  {
   "cell_type": "code",
   "execution_count": 19,
   "id": "af52d449-01fd-4ca6-921c-d59b9939449b",
   "metadata": {},
   "outputs": [],
   "source": [
    "modelLinReg =LinearRegression().fit(x_train, y_train)"
   ]
  },
  {
   "cell_type": "code",
   "execution_count": 20,
   "id": "401f15d3-bb58-4993-a839-0f02bf46cd1b",
   "metadata": {},
   "outputs": [
    {
     "data": {
      "text/plain": [
       "0.4597963246944602"
      ]
     },
     "execution_count": 20,
     "metadata": {},
     "output_type": "execute_result"
    }
   ],
   "source": [
    "modelLinReg.score(x_train, y_train)"
   ]
  },
  {
   "cell_type": "code",
   "execution_count": 21,
   "id": "a5bcb0a6-cbee-4034-a481-88fd4e421eea",
   "metadata": {},
   "outputs": [
    {
     "data": {
      "text/plain": [
       "0.07627878041868397"
      ]
     },
     "execution_count": 21,
     "metadata": {},
     "output_type": "execute_result"
    }
   ],
   "source": [
    "modelLinReg.score(x_test, y_test)"
   ]
  },
  {
   "cell_type": "markdown",
   "id": "291ad715-ae50-4ca6-8102-e055fc1c0dd8",
   "metadata": {},
   "source": [
    "## Tampilkan score dari model-model tersebut untuk classification\n"
   ]
  },
  {
   "cell_type": "markdown",
   "id": "de6a4057-d42a-48d9-bd56-9a3a3889baec",
   "metadata": {},
   "source": [
    "### K-Nearest Neighbor"
   ]
  },
  {
   "cell_type": "code",
   "execution_count": 22,
   "id": "b4be43ee-1ed9-408d-98e4-d3c51424444f",
   "metadata": {},
   "outputs": [],
   "source": [
    "from sklearn.neighbors import KNeighborsClassifier"
   ]
  },
  {
   "cell_type": "code",
   "execution_count": 23,
   "id": "778a8516-e9f0-4256-8a86-2f1719ba7aa7",
   "metadata": {},
   "outputs": [],
   "source": [
    "modelKKN = KNeighborsClassifier(n_neighbors = 5)"
   ]
  },
  {
   "cell_type": "code",
   "execution_count": 24,
   "id": "aa93a9aa-fbd2-44a0-af08-4826ef04dca9",
   "metadata": {},
   "outputs": [
    {
     "data": {
      "text/html": [
       "<style>#sk-container-id-1 {color: black;background-color: white;}#sk-container-id-1 pre{padding: 0;}#sk-container-id-1 div.sk-toggleable {background-color: white;}#sk-container-id-1 label.sk-toggleable__label {cursor: pointer;display: block;width: 100%;margin-bottom: 0;padding: 0.3em;box-sizing: border-box;text-align: center;}#sk-container-id-1 label.sk-toggleable__label-arrow:before {content: \"▸\";float: left;margin-right: 0.25em;color: #696969;}#sk-container-id-1 label.sk-toggleable__label-arrow:hover:before {color: black;}#sk-container-id-1 div.sk-estimator:hover label.sk-toggleable__label-arrow:before {color: black;}#sk-container-id-1 div.sk-toggleable__content {max-height: 0;max-width: 0;overflow: hidden;text-align: left;background-color: #f0f8ff;}#sk-container-id-1 div.sk-toggleable__content pre {margin: 0.2em;color: black;border-radius: 0.25em;background-color: #f0f8ff;}#sk-container-id-1 input.sk-toggleable__control:checked~div.sk-toggleable__content {max-height: 200px;max-width: 100%;overflow: auto;}#sk-container-id-1 input.sk-toggleable__control:checked~label.sk-toggleable__label-arrow:before {content: \"▾\";}#sk-container-id-1 div.sk-estimator input.sk-toggleable__control:checked~label.sk-toggleable__label {background-color: #d4ebff;}#sk-container-id-1 div.sk-label input.sk-toggleable__control:checked~label.sk-toggleable__label {background-color: #d4ebff;}#sk-container-id-1 input.sk-hidden--visually {border: 0;clip: rect(1px 1px 1px 1px);clip: rect(1px, 1px, 1px, 1px);height: 1px;margin: -1px;overflow: hidden;padding: 0;position: absolute;width: 1px;}#sk-container-id-1 div.sk-estimator {font-family: monospace;background-color: #f0f8ff;border: 1px dotted black;border-radius: 0.25em;box-sizing: border-box;margin-bottom: 0.5em;}#sk-container-id-1 div.sk-estimator:hover {background-color: #d4ebff;}#sk-container-id-1 div.sk-parallel-item::after {content: \"\";width: 100%;border-bottom: 1px solid gray;flex-grow: 1;}#sk-container-id-1 div.sk-label:hover label.sk-toggleable__label {background-color: #d4ebff;}#sk-container-id-1 div.sk-serial::before {content: \"\";position: absolute;border-left: 1px solid gray;box-sizing: border-box;top: 0;bottom: 0;left: 50%;z-index: 0;}#sk-container-id-1 div.sk-serial {display: flex;flex-direction: column;align-items: center;background-color: white;padding-right: 0.2em;padding-left: 0.2em;position: relative;}#sk-container-id-1 div.sk-item {position: relative;z-index: 1;}#sk-container-id-1 div.sk-parallel {display: flex;align-items: stretch;justify-content: center;background-color: white;position: relative;}#sk-container-id-1 div.sk-item::before, #sk-container-id-1 div.sk-parallel-item::before {content: \"\";position: absolute;border-left: 1px solid gray;box-sizing: border-box;top: 0;bottom: 0;left: 50%;z-index: -1;}#sk-container-id-1 div.sk-parallel-item {display: flex;flex-direction: column;z-index: 1;position: relative;background-color: white;}#sk-container-id-1 div.sk-parallel-item:first-child::after {align-self: flex-end;width: 50%;}#sk-container-id-1 div.sk-parallel-item:last-child::after {align-self: flex-start;width: 50%;}#sk-container-id-1 div.sk-parallel-item:only-child::after {width: 0;}#sk-container-id-1 div.sk-dashed-wrapped {border: 1px dashed gray;margin: 0 0.4em 0.5em 0.4em;box-sizing: border-box;padding-bottom: 0.4em;background-color: white;}#sk-container-id-1 div.sk-label label {font-family: monospace;font-weight: bold;display: inline-block;line-height: 1.2em;}#sk-container-id-1 div.sk-label-container {text-align: center;}#sk-container-id-1 div.sk-container {/* jupyter's `normalize.less` sets `[hidden] { display: none; }` but bootstrap.min.css set `[hidden] { display: none !important; }` so we also need the `!important` here to be able to override the default hidden behavior on the sphinx rendered scikit-learn.org. See: https://github.com/scikit-learn/scikit-learn/issues/21755 */display: inline-block !important;position: relative;}#sk-container-id-1 div.sk-text-repr-fallback {display: none;}</style><div id=\"sk-container-id-1\" class=\"sk-top-container\"><div class=\"sk-text-repr-fallback\"><pre>KNeighborsClassifier()</pre><b>In a Jupyter environment, please rerun this cell to show the HTML representation or trust the notebook. <br />On GitHub, the HTML representation is unable to render, please try loading this page with nbviewer.org.</b></div><div class=\"sk-container\" hidden><div class=\"sk-item\"><div class=\"sk-estimator sk-toggleable\"><input class=\"sk-toggleable__control sk-hidden--visually\" id=\"sk-estimator-id-1\" type=\"checkbox\" checked><label for=\"sk-estimator-id-1\" class=\"sk-toggleable__label sk-toggleable__label-arrow\">KNeighborsClassifier</label><div class=\"sk-toggleable__content\"><pre>KNeighborsClassifier()</pre></div></div></div></div></div>"
      ],
      "text/plain": [
       "KNeighborsClassifier()"
      ]
     },
     "execution_count": 24,
     "metadata": {},
     "output_type": "execute_result"
    }
   ],
   "source": [
    "modelKKN.fit(X_train, Y_train)"
   ]
  },
  {
   "cell_type": "code",
   "execution_count": 25,
   "id": "4582bf56-f572-406f-8af9-aa3f0e2400fe",
   "metadata": {},
   "outputs": [
    {
     "data": {
      "text/plain": [
       "0.9431162407254741"
      ]
     },
     "execution_count": 25,
     "metadata": {},
     "output_type": "execute_result"
    }
   ],
   "source": [
    "modelKKN.score(X_test, Y_test)"
   ]
  },
  {
   "cell_type": "code",
   "execution_count": 26,
   "id": "dc19ae6d-53b7-4d81-8881-3ba4196be674",
   "metadata": {},
   "outputs": [
    {
     "data": {
      "text/plain": [
       "0.9512228634240176"
      ]
     },
     "execution_count": 26,
     "metadata": {},
     "output_type": "execute_result"
    }
   ],
   "source": [
    "modelKKN.score(X_train, Y_train)"
   ]
  },
  {
   "cell_type": "markdown",
   "id": "35fac592-8bbd-4433-ab8b-1cf5f97b8f03",
   "metadata": {},
   "source": [
    "## Tampilan visualisasi untuk pendekatan regression."
   ]
  },
  {
   "cell_type": "code",
   "execution_count": 27,
   "id": "c08dc12a-2ec9-4066-9535-3750691a54c1",
   "metadata": {},
   "outputs": [],
   "source": [
    "y_pred = modelLinReg.predict(x_test)"
   ]
  },
  {
   "cell_type": "code",
   "execution_count": 28,
   "id": "bf43e167-f09f-4206-94fe-a1478696e74c",
   "metadata": {},
   "outputs": [],
   "source": [
    "import matplotlib.pyplot as plt\n"
   ]
  },
  {
   "cell_type": "code",
   "execution_count": 29,
   "id": "eff5b04e-2543-4216-989e-0d65de96c3fa",
   "metadata": {},
   "outputs": [
    {
     "data": {
      "image/png": "[encoded data removed]",
      "text/plain": [
       "<Figure size 640x480 with 1 Axes>"
      ]
     },
     "metadata": {},
     "output_type": "display_data"
    }
   ],
   "source": [
    "plt.scatter(x_test, y_test, color=\"maroon\", label=\"Nilai Aktual\")\n",
    "plt.plot(x_test, y_pred, color= \"blue\", label=\"Nilai Prediksi\")\n",
    "plt.legend()\n",
    "plt.show()"
   ]
  },
  {
   "cell_type": "markdown",
   "id": "4c6e5af9-74b1-4541-8c19-c1793c1bf0e3",
   "metadata": {},
   "source": [
    "## Regression"
   ]
  },
  {
   "cell_type": "code",
   "execution_count": 30,
   "id": "330e5396-43c9-4124-92dc-1c9c7880cc1d",
   "metadata": {},
   "outputs": [],
   "source": [
    "from sklearn.metrics import mean_squared_error, r2_score, mean_absolute_error\n",
    "import numpy as np"
   ]
  },
  {
   "cell_type": "code",
   "execution_count": 31,
   "id": "a6fbd9c9-c86b-40a0-a33f-1931c3316c9c",
   "metadata": {},
   "outputs": [],
   "source": [
    "mse = mean_squared_error(y_test, y_pred)\n",
    "rmse = mean_squared_error(y_test, y_pred, squared= False)\n",
    "mae = mean_absolute_error(y_test, y_pred)\n",
    "r2 = r2_score(y_test, y_pred)"
   ]
  },
  {
   "cell_type": "code",
   "execution_count": 32,
   "id": "98851e7f-dc29-4b23-aa42-58aaa860e6e7",
   "metadata": {},
   "outputs": [
    {
     "name": "stdout",
     "output_type": "stream",
     "text": [
      "mse: 375.1370624358345\n",
      "rmse: 19.368455344601813\n",
      "mae: 1.4927335006049363\n",
      "r2: 0.07627878041868397\n"
     ]
    }
   ],
   "source": [
    "print(\"mse:\",mse)\n",
    "print(\"rmse:\",rmse)\n",
    "print(\"mae:\",mae)\n",
    "print(\"r2:\",r2)"
   ]
  },
  {
   "cell_type": "code",
   "execution_count": null,
   "id": "3051d0d2-065c-4b2f-b19d-4f6f5f862a66",
   "metadata": {},
   "outputs": [],
   "source": []
  }
 ],
 "metadata": {
  "kernelspec": {
   "display_name": "rezky_009",
   "language": "python",
   "name": "rezky_009"
  },
  "language_info": {
   "codemirror_mode": {
    "name": "ipython",
    "version": 3
   },
   "file_extension": ".py",
   "mimetype": "text/x-python",
   "name": "python",
   "nbconvert_exporter": "python",
   "pygments_lexer": "ipython3",
   "version": "3.10.7"
  }
 },
 "nbformat": 4,
 "nbformat_minor": 5
}
