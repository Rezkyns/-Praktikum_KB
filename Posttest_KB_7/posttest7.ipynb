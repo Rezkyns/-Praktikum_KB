{
 "cells": [
  {
   "cell_type": "markdown",
   "id": "07152b1b-9462-450c-831b-2d31a6dce203",
   "metadata": {},
   "source": [
    "# import tensorflow"
   ]
  },
  {
   "cell_type": "code",
   "execution_count": 4,
   "id": "cf23603e-c3fc-4d46-bc23-8189951956b2",
   "metadata": {},
   "outputs": [],
   "source": [
    "import tensorflow as tf"
   ]
  },
  {
   "cell_type": "markdown",
   "id": "433ec7bc-3d35-42e1-977f-a1991e406248",
   "metadata": {},
   "source": [
    "## Tensor dengan Shape(5,5) dengan nilai random yang disimpan dalam variable Random_Tensor."
   ]
  },
  {
   "cell_type": "code",
   "execution_count": 5,
   "id": "3d751c31-a302-45b4-8837-870eb039c2d2",
   "metadata": {},
   "outputs": [
    {
     "data": {
      "text/plain": [
       "array([[ 0.59741306, -0.21638517, -0.8104995 ,  0.00557772,  0.6375699 ],\n",
       "       [-0.7379968 , -0.06377111,  0.13534491, -0.092591  ,  0.13763921],\n",
       "       [-0.5552957 , -0.82209474,  1.1946009 ,  1.9543308 ,  0.6355978 ],\n",
       "       [ 0.99732584,  1.33653   ,  0.3635919 ,  0.91267323, -0.584518  ],\n",
       "       [-0.35073593, -1.9604133 ,  0.6109846 , -1.0721704 ,  0.94315094]],\n",
       "      dtype=float32)"
      ]
     },
     "execution_count": 5,
     "metadata": {},
     "output_type": "execute_result"
    }
   ],
   "source": [
    "random_tensor = tf.random.normal([5,5])\n",
    "random_tensor.numpy()"
   ]
  },
  {
   "cell_type": "markdown",
   "id": "0ef94d33-bd45-4abe-9293-8df7cd715a60",
   "metadata": {},
   "source": [
    "## Tensor dengan shape(5,5) dari sebuah list dengan nilai bilangan prima dalam variable Prime_Tensor."
   ]
  },
  {
   "cell_type": "code",
   "execution_count": 6,
   "id": "780a4376-3d7e-46e3-aa99-e5414c1c69f2",
   "metadata": {},
   "outputs": [
    {
     "name": "stdout",
     "output_type": "stream",
     "text": [
      "tf.Tensor(\n",
      "[[ 1.  3.  5.  7. 11.]\n",
      " [13. 17. 19. 23. 29.]\n",
      " [31. 37. 41. 43. 47.]\n",
      " [53. 59. 61. 67. 71.]\n",
      " [73. 79. 83. 89. 97.]], shape=(5, 5), dtype=float32)\n"
     ]
    }
   ],
   "source": [
    "prime_tensor = tf.convert_to_tensor([[1,3,5,7,11],\n",
    "                                    [13, 17, 19, 23, 29], \n",
    "                                     [31, 37, 41, 43, 47], \n",
    "                                    [53, 59, 61, 67, 71], \n",
    "                                     [73, 79, 83, 89, 97]], dtype=tf.float32)\n",
    "print(prime_tensor)"
   ]
  },
  {
   "cell_type": "markdown",
   "id": "db7940f8-a5d5-458d-a160-bef6d2373e02",
   "metadata": {},
   "source": [
    "## Tampilkan dimensi dari kedua variabel"
   ]
  },
  {
   "cell_type": "code",
   "execution_count": 10,
   "id": "43597cff-66c9-4da0-a5ff-27e899c97c9b",
   "metadata": {},
   "outputs": [
    {
     "name": "stdout",
     "output_type": "stream",
     "text": [
      "Dimensi Variabel\n",
      "random_tensor Dimensi : (5, 5)\n",
      "prime_tensor Dimensi : (5, 5)\n"
     ]
    }
   ],
   "source": [
    "print(\"Dimensi Variabel\")\n",
    "print(\"random_tensor Dimensi :\",random_tensor.shape)\n",
    "print(\"prime_tensor Dimensi :\",prime_tensor.shape)"
   ]
  },
  {
   "cell_type": "markdown",
   "id": "39638314-e690-4beb-88f0-4988a5ea512e",
   "metadata": {},
   "source": [
    "## Hasil perhitungan aritmatika 2 variabel, Gunakan minimal 5 Operator"
   ]
  },
  {
   "cell_type": "code",
   "execution_count": 13,
   "id": "8c741191-0c72-491d-aeef-1975ba7630d5",
   "metadata": {},
   "outputs": [
    {
     "data": {
      "text/plain": [
       "<tf.Tensor: shape=(5, 5), dtype=float32, numpy=\n",
       "array([[ 1.5974131,  2.7836149,  4.1895003,  7.0055776, 11.637569 ],\n",
       "       [12.262003 , 16.93623  , 19.135345 , 22.90741  , 29.13764  ],\n",
       "       [30.444704 , 36.177906 , 42.1946   , 44.95433  , 47.635597 ],\n",
       "       [53.997326 , 60.33653  , 61.36359  , 67.912674 , 70.41548  ],\n",
       "       [72.64926  , 77.03959  , 83.610985 , 87.927826 , 97.94315  ]],\n",
       "      dtype=float32)>"
      ]
     },
     "execution_count": 13,
     "metadata": {},
     "output_type": "execute_result"
    }
   ],
   "source": [
    "#Jumlah\n",
    "a = random_tensor\n",
    "b = prime_tensor\n",
    "tf.add(a,b)"
   ]
  },
  {
   "cell_type": "code",
   "execution_count": 14,
   "id": "00f5b70b-d71e-449f-a35c-7b04d35bece2",
   "metadata": {},
   "outputs": [
    {
     "data": {
      "text/plain": [
       "<tf.Tensor: shape=(5, 5), dtype=float32, numpy=\n",
       "array([[ -0.40258694,  -3.2163851 ,  -5.8104997 ,  -6.9944224 ,\n",
       "        -10.362431  ],\n",
       "       [-13.737997  , -17.06377   , -18.864655  , -23.09259   ,\n",
       "        -28.86236   ],\n",
       "       [-31.555296  , -37.822094  , -39.8054    , -41.04567   ,\n",
       "        -46.364403  ],\n",
       "       [-52.002674  , -57.66347   , -60.63641   , -66.087326  ,\n",
       "        -71.58452   ],\n",
       "       [-73.35074   , -80.96041   , -82.389015  , -90.072174  ,\n",
       "        -96.05685   ]], dtype=float32)>"
      ]
     },
     "execution_count": 14,
     "metadata": {},
     "output_type": "execute_result"
    }
   ],
   "source": [
    "#pengurangan\n",
    "tf.subtract(a,b)"
   ]
  },
  {
   "cell_type": "code",
   "execution_count": 15,
   "id": "a1e105cc-087b-4cbe-86ed-0dbd9ec3dcb7",
   "metadata": {},
   "outputs": [
    {
     "data": {
      "text/plain": [
       "<tf.Tensor: shape=(5, 5), dtype=float32, numpy=\n",
       "array([[ 5.9741306e-01, -6.4915550e-01, -4.0524974e+00,  3.9044064e-02,\n",
       "         7.0132689e+00],\n",
       "       [-9.5939589e+00, -1.0841089e+00,  2.5715532e+00, -2.1295929e+00,\n",
       "         3.9915371e+00],\n",
       "       [-1.7214167e+01, -3.0417505e+01,  4.8978638e+01,  8.4036224e+01,\n",
       "         2.9873098e+01],\n",
       "       [ 5.2858269e+01,  7.8855270e+01,  2.2179106e+01,  6.1149105e+01,\n",
       "        -4.1500778e+01],\n",
       "       [-2.5603724e+01, -1.5487265e+02,  5.0711723e+01, -9.5423164e+01,\n",
       "         9.1485641e+01]], dtype=float32)>"
      ]
     },
     "execution_count": 15,
     "metadata": {},
     "output_type": "execute_result"
    }
   ],
   "source": [
    "#perkalian\n",
    "tf.multiply(a,b)"
   ]
  },
  {
   "cell_type": "code",
   "execution_count": 16,
   "id": "dfdc109b-03f8-41f7-8eb6-4955b1496521",
   "metadata": {},
   "outputs": [
    {
     "data": {
      "text/plain": [
       "<tf.Tensor: shape=(5, 5), dtype=float32, numpy=\n",
       "array([[ 0.59741306, -0.07212839, -0.1620999 ,  0.00079682,  0.0579609 ],\n",
       "       [-0.05676899, -0.00375124,  0.00712342, -0.0040257 ,  0.00474618],\n",
       "       [-0.01791276, -0.02221878,  0.02913661,  0.04544955,  0.01352336],\n",
       "       [ 0.01881747,  0.02265305,  0.00596052,  0.01362199, -0.00823265],\n",
       "       [-0.0048046 , -0.02481536,  0.00736126, -0.01204686,  0.00972321]],\n",
       "      dtype=float32)>"
      ]
     },
     "execution_count": 16,
     "metadata": {},
     "output_type": "execute_result"
    }
   ],
   "source": [
    "#pembagian\n",
    "tf.divide(a,b)"
   ]
  },
  {
   "cell_type": "code",
   "execution_count": 17,
   "id": "5b5b1d91-c020-4cee-8329-398624ca7d96",
   "metadata": {},
   "outputs": [
    {
     "data": {
      "text/plain": [
       "<tf.Tensor: shape=(5, 5), dtype=float32, numpy=\n",
       "array([[ 5.97413063e-01, -1.01317037e-02, -3.49754840e-01,\n",
       "         1.67957290e-16,  7.07629463e-03],\n",
       "       [-1.92623101e-02, -4.77098471e-21,  3.14337699e-17,\n",
       "        -1.70247720e-24,  1.05565724e-25],\n",
       "       [-1.20296715e-08, -7.11392262e-04,  1.46601001e+03,\n",
       "         3.25774659e+12,  5.61788616e-10],\n",
       "       [ 8.67690265e-01,  2.70859080e+07,  1.57567580e-27,\n",
       "         2.19344161e-03, -2.77109228e-17],\n",
       "       [-6.07517888e-34, -1.24584563e+23,  1.73985592e-18,\n",
       "        -4.93717529e+02,  3.42276017e-03]], dtype=float32)>"
      ]
     },
     "execution_count": 17,
     "metadata": {},
     "output_type": "execute_result"
    }
   ],
   "source": [
    "# Pangkat\n",
    "tf.pow(a,b)"
   ]
  },
  {
   "cell_type": "markdown",
   "id": "9a95a690-2df9-4074-a365-1b4f2ba01385",
   "metadata": {},
   "source": [
    "# Nilai maksimum dan minimum dari variabel Random-Tensor"
   ]
  },
  {
   "cell_type": "code",
   "execution_count": 25,
   "id": "5994318a-bd57-4db3-b9ff-521e78951a21",
   "metadata": {},
   "outputs": [
    {
     "name": "stdout",
     "output_type": "stream",
     "text": [
      "Nilai Maksimal random_tensor = tf.Tensor([3 3 2 2 4], shape=(5,), dtype=int64)\n",
      "Nilai Minimal random_tensor = tf.Tensor([1 4 0 4 3], shape=(5,), dtype=int64)\n"
     ]
    }
   ],
   "source": [
    "argmax = tf.constant(random_tensor)\n",
    "print(\"Nilai Maksimal random_tensor =\",tf.argmax(random_tensor,axis=0))\n",
    "print(\"Nilai Minimal random_tensor =\",tf.argmin(random_tensor,axis=0))"
   ]
  },
  {
   "cell_type": "markdown",
   "id": "4f4da302-2588-4de8-9dd5-ef2b1ad1122f",
   "metadata": {},
   "source": [
    "## Penggabungan variable Random_Tensor dengan prime_tensor (concatenation)"
   ]
  },
  {
   "cell_type": "code",
   "execution_count": 19,
   "id": "b87a591d-bef4-4ca1-ad7f-f7e926f2f25d",
   "metadata": {},
   "outputs": [
    {
     "data": {
      "text/plain": [
       "<tf.Tensor: shape=(10, 5), dtype=float32, numpy=\n",
       "array([[ 5.9741306e-01, -2.1638517e-01, -8.1049949e-01,  5.5777235e-03,\n",
       "         6.3756990e-01],\n",
       "       [-7.3799682e-01, -6.3771114e-02,  1.3534491e-01, -9.2590995e-02,\n",
       "         1.3763921e-01],\n",
       "       [-5.5529571e-01, -8.2209474e-01,  1.1946009e+00,  1.9543308e+00,\n",
       "         6.3559783e-01],\n",
       "       [ 9.9732584e-01,  1.3365300e+00,  3.6359191e-01,  9.1267323e-01,\n",
       "        -5.8451802e-01],\n",
       "       [-3.5073593e-01, -1.9604133e+00,  6.1098462e-01, -1.0721704e+00,\n",
       "         9.4315094e-01],\n",
       "       [ 1.0000000e+00,  3.0000000e+00,  5.0000000e+00,  7.0000000e+00,\n",
       "         1.1000000e+01],\n",
       "       [ 1.3000000e+01,  1.7000000e+01,  1.9000000e+01,  2.3000000e+01,\n",
       "         2.9000000e+01],\n",
       "       [ 3.1000000e+01,  3.7000000e+01,  4.1000000e+01,  4.3000000e+01,\n",
       "         4.7000000e+01],\n",
       "       [ 5.3000000e+01,  5.9000000e+01,  6.1000000e+01,  6.7000000e+01,\n",
       "         7.1000000e+01],\n",
       "       [ 7.3000000e+01,  7.9000000e+01,  8.3000000e+01,  8.9000000e+01,\n",
       "         9.7000000e+01]], dtype=float32)>"
      ]
     },
     "execution_count": 19,
     "metadata": {},
     "output_type": "execute_result"
    }
   ],
   "source": [
    "concat = tf.concat([random_tensor,prime_tensor], axis=0)\n",
    "concat"
   ]
  },
  {
   "cell_type": "markdown",
   "id": "b243dcd5-75d1-4785-bed0-ea464b4c20a6",
   "metadata": {},
   "source": [
    "## Hasil sorting dari kedua variabel di atas( Descending )"
   ]
  },
  {
   "cell_type": "code",
   "execution_count": 21,
   "id": "b3fa923a-fb8b-4791-96da-8dcda3fc1734",
   "metadata": {},
   "outputs": [
    {
     "name": "stdout",
     "output_type": "stream",
     "text": [
      "Sorting random_tensor Descending\n",
      "tf.Tensor(\n",
      "[[ 0.6375699   0.59741306  0.00557772 -0.21638517 -0.8104995 ]\n",
      " [ 0.13763921  0.13534491 -0.06377111 -0.092591   -0.7379968 ]\n",
      " [ 1.9543308   1.1946009   0.6355978  -0.5552957  -0.82209474]\n",
      " [ 1.33653     0.99732584  0.91267323  0.3635919  -0.584518  ]\n",
      " [ 0.94315094  0.6109846  -0.35073593 -1.0721704  -1.9604133 ]], shape=(5, 5), dtype=float32)\n",
      "\n",
      "\n",
      "Sorting prime_tensor Descending\n",
      "tf.Tensor(\n",
      "[[11.  7.  5.  3.  1.]\n",
      " [29. 23. 19. 17. 13.]\n",
      " [47. 43. 41. 37. 31.]\n",
      " [71. 67. 61. 59. 53.]\n",
      " [97. 89. 83. 79. 73.]], shape=(5, 5), dtype=float32)\n"
     ]
    }
   ],
   "source": [
    "print(\"Sorting random_tensor Descending\")\n",
    "print(tf.sort(random_tensor,direction=\"DESCENDING\"))\n",
    "print(\"\\n\")\n",
    "print(\"Sorting prime_tensor Descending\")\n",
    "print(tf.sort(prime_tensor,direction=\"DESCENDING\"))"
   ]
  },
  {
   "cell_type": "code",
   "execution_count": null,
   "id": "45b8f908-2e4a-4240-9583-7921b2f3ad00",
   "metadata": {},
   "outputs": [],
   "source": []
  }
 ],
 "metadata": {
  "kernelspec": {
   "display_name": "rezky_009",
   "language": "python",
   "name": "rezky_009"
  },
  "language_info": {
   "codemirror_mode": {
    "name": "ipython",
    "version": 3
   },
   "file_extension": ".py",
   "mimetype": "text/x-python",
   "name": "python",
   "nbconvert_exporter": "python",
   "pygments_lexer": "ipython3",
   "version": "3.10.7"
  }
 },
 "nbformat": 4,
 "nbformat_minor": 5
}
