{
 "cells": [
  {
   "cell_type": "code",
   "execution_count": 631,
   "id": "739cbe90-9e37-4aae-aaac-e72855fda295",
   "metadata": {},
   "outputs": [],
   "source": [
    "import numpy as np\n",
    "import pandas as pd\n",
    "import matplotlib.pyplot as plt\n",
    "import tensorflow as tf\n",
    "from tensorflow import keras\n",
    "from tensorflow.keras import Sequential\n",
    "from tensorflow.keras.layers import Dense\n",
    "from keras import datasets\n",
    "from sklearn.preprocessing import StandardScaler \n",
    "from sklearn.model_selection import train_test_split"
   ]
  },
  {
   "cell_type": "markdown",
   "id": "c6c01a29-0e51-470f-886a-58aeb76deadc",
   "metadata": {},
   "source": [
    "## Read Dataset"
   ]
  },
  {
   "cell_type": "code",
   "execution_count": 664,
   "id": "881d1557-4831-426f-ba74-742835e9188c",
   "metadata": {},
   "outputs": [],
   "source": [
    "df = pd.read_csv('weatherHistory.csv')"
   ]
  },
  {
   "cell_type": "code",
   "execution_count": 665,
   "id": "0eb7d760-2c73-41bf-87cf-fda11b0d560d",
   "metadata": {},
   "outputs": [
    {
     "data": {
      "text/html": [
       "<div>\n",
       "<style scoped>\n",
       "    .dataframe tbody tr th:only-of-type {\n",
       "        vertical-align: middle;\n",
       "    }\n",
       "\n",
       "    .dataframe tbody tr th {\n",
       "        vertical-align: top;\n",
       "    }\n",
       "\n",
       "    .dataframe thead th {\n",
       "        text-align: right;\n",
       "    }\n",
       "</style>\n",
       "<table border=\"1\" class=\"dataframe\">\n",
       "  <thead>\n",
       "    <tr style=\"text-align: right;\">\n",
       "      <th></th>\n",
       "      <th>Formatted Date</th>\n",
       "      <th>Summary</th>\n",
       "      <th>Precip Type</th>\n",
       "      <th>Temperature (C)</th>\n",
       "      <th>Apparent Temperature (C)</th>\n",
       "      <th>Humidity</th>\n",
       "      <th>Wind Speed (km/h)</th>\n",
       "      <th>Wind Bearing (degrees)</th>\n",
       "      <th>Visibility (km)</th>\n",
       "      <th>Loud Cover</th>\n",
       "      <th>Pressure (millibars)</th>\n",
       "      <th>Daily Summary</th>\n",
       "    </tr>\n",
       "  </thead>\n",
       "  <tbody>\n",
       "    <tr>\n",
       "      <th>0</th>\n",
       "      <td>2006-04-01 00:00:00.000 +0200</td>\n",
       "      <td>Partly Cloudy</td>\n",
       "      <td>rain</td>\n",
       "      <td>9.472222</td>\n",
       "      <td>7.388889</td>\n",
       "      <td>0.89</td>\n",
       "      <td>14.1197</td>\n",
       "      <td>251.0</td>\n",
       "      <td>15.8263</td>\n",
       "      <td>0.0</td>\n",
       "      <td>1015.13</td>\n",
       "      <td>Partly cloudy throughout the day.</td>\n",
       "    </tr>\n",
       "    <tr>\n",
       "      <th>1</th>\n",
       "      <td>2006-04-01 01:00:00.000 +0200</td>\n",
       "      <td>Partly Cloudy</td>\n",
       "      <td>rain</td>\n",
       "      <td>9.355556</td>\n",
       "      <td>7.227778</td>\n",
       "      <td>0.86</td>\n",
       "      <td>14.2646</td>\n",
       "      <td>259.0</td>\n",
       "      <td>15.8263</td>\n",
       "      <td>0.0</td>\n",
       "      <td>1015.63</td>\n",
       "      <td>Partly cloudy throughout the day.</td>\n",
       "    </tr>\n",
       "    <tr>\n",
       "      <th>2</th>\n",
       "      <td>2006-04-01 02:00:00.000 +0200</td>\n",
       "      <td>Mostly Cloudy</td>\n",
       "      <td>rain</td>\n",
       "      <td>9.377778</td>\n",
       "      <td>9.377778</td>\n",
       "      <td>0.89</td>\n",
       "      <td>3.9284</td>\n",
       "      <td>204.0</td>\n",
       "      <td>14.9569</td>\n",
       "      <td>0.0</td>\n",
       "      <td>1015.94</td>\n",
       "      <td>Partly cloudy throughout the day.</td>\n",
       "    </tr>\n",
       "    <tr>\n",
       "      <th>3</th>\n",
       "      <td>2006-04-01 03:00:00.000 +0200</td>\n",
       "      <td>Partly Cloudy</td>\n",
       "      <td>rain</td>\n",
       "      <td>8.288889</td>\n",
       "      <td>5.944444</td>\n",
       "      <td>0.83</td>\n",
       "      <td>14.1036</td>\n",
       "      <td>269.0</td>\n",
       "      <td>15.8263</td>\n",
       "      <td>0.0</td>\n",
       "      <td>1016.41</td>\n",
       "      <td>Partly cloudy throughout the day.</td>\n",
       "    </tr>\n",
       "    <tr>\n",
       "      <th>4</th>\n",
       "      <td>2006-04-01 04:00:00.000 +0200</td>\n",
       "      <td>Mostly Cloudy</td>\n",
       "      <td>rain</td>\n",
       "      <td>8.755556</td>\n",
       "      <td>6.977778</td>\n",
       "      <td>0.83</td>\n",
       "      <td>11.0446</td>\n",
       "      <td>259.0</td>\n",
       "      <td>15.8263</td>\n",
       "      <td>0.0</td>\n",
       "      <td>1016.51</td>\n",
       "      <td>Partly cloudy throughout the day.</td>\n",
       "    </tr>\n",
       "  </tbody>\n",
       "</table>\n",
       "</div>"
      ],
      "text/plain": [
       "                  Formatted Date        Summary Precip Type  Temperature (C)  \\\n",
       "0  2006-04-01 00:00:00.000 +0200  Partly Cloudy        rain         9.472222   \n",
       "1  2006-04-01 01:00:00.000 +0200  Partly Cloudy        rain         9.355556   \n",
       "2  2006-04-01 02:00:00.000 +0200  Mostly Cloudy        rain         9.377778   \n",
       "3  2006-04-01 03:00:00.000 +0200  Partly Cloudy        rain         8.288889   \n",
       "4  2006-04-01 04:00:00.000 +0200  Mostly Cloudy        rain         8.755556   \n",
       "\n",
       "   Apparent Temperature (C)  Humidity  Wind Speed (km/h)  \\\n",
       "0                  7.388889      0.89            14.1197   \n",
       "1                  7.227778      0.86            14.2646   \n",
       "2                  9.377778      0.89             3.9284   \n",
       "3                  5.944444      0.83            14.1036   \n",
       "4                  6.977778      0.83            11.0446   \n",
       "\n",
       "   Wind Bearing (degrees)  Visibility (km)  Loud Cover  Pressure (millibars)  \\\n",
       "0                   251.0          15.8263         0.0               1015.13   \n",
       "1                   259.0          15.8263         0.0               1015.63   \n",
       "2                   204.0          14.9569         0.0               1015.94   \n",
       "3                   269.0          15.8263         0.0               1016.41   \n",
       "4                   259.0          15.8263         0.0               1016.51   \n",
       "\n",
       "                       Daily Summary  \n",
       "0  Partly cloudy throughout the day.  \n",
       "1  Partly cloudy throughout the day.  \n",
       "2  Partly cloudy throughout the day.  \n",
       "3  Partly cloudy throughout the day.  \n",
       "4  Partly cloudy throughout the day.  "
      ]
     },
     "execution_count": 665,
     "metadata": {},
     "output_type": "execute_result"
    }
   ],
   "source": [
    "df.head()"
   ]
  },
  {
   "cell_type": "markdown",
   "id": "c7772da9-26dd-4607-922c-dd50d8da77da",
   "metadata": {},
   "source": [
    "## Cek tipe data"
   ]
  },
  {
   "cell_type": "code",
   "execution_count": 666,
   "id": "abc92f02-85c6-452d-b190-081a63be4ae4",
   "metadata": {},
   "outputs": [
    {
     "data": {
      "text/plain": [
       "Formatted Date               object\n",
       "Summary                      object\n",
       "Precip Type                  object\n",
       "Temperature (C)             float64\n",
       "Apparent Temperature (C)    float64\n",
       "Humidity                    float64\n",
       "Wind Speed (km/h)           float64\n",
       "Wind Bearing (degrees)      float64\n",
       "Visibility (km)             float64\n",
       "Loud Cover                  float64\n",
       "Pressure (millibars)        float64\n",
       "Daily Summary                object\n",
       "dtype: object"
      ]
     },
     "execution_count": 666,
     "metadata": {},
     "output_type": "execute_result"
    }
   ],
   "source": [
    "df.dtypes"
   ]
  },
  {
   "cell_type": "markdown",
   "id": "86728bd4-dbb5-497d-84ec-c00cf04380ae",
   "metadata": {},
   "source": [
    "## Cek nilai null"
   ]
  },
  {
   "cell_type": "code",
   "execution_count": 667,
   "id": "4d5c2138-d9fe-4768-a1b5-f3bf7b594dec",
   "metadata": {},
   "outputs": [
    {
     "data": {
      "text/plain": [
       "Formatted Date                0\n",
       "Summary                       0\n",
       "Precip Type                 517\n",
       "Temperature (C)               0\n",
       "Apparent Temperature (C)      0\n",
       "Humidity                      0\n",
       "Wind Speed (km/h)             0\n",
       "Wind Bearing (degrees)        0\n",
       "Visibility (km)               0\n",
       "Loud Cover                    0\n",
       "Pressure (millibars)          0\n",
       "Daily Summary                 0\n",
       "dtype: int64"
      ]
     },
     "execution_count": 667,
     "metadata": {},
     "output_type": "execute_result"
    }
   ],
   "source": [
    "df.isna().sum()"
   ]
  },
  {
   "cell_type": "markdown",
   "id": "b877b970-1202-45e1-b6c6-3c818b75db41",
   "metadata": {},
   "source": [
    "## Data Spliting"
   ]
  },
  {
   "cell_type": "code",
   "execution_count": 672,
   "id": "47d7a5ab-d8d7-4407-9ef0-9d24a54df96c",
   "metadata": {},
   "outputs": [],
   "source": [
    "X = df[['Humidity','Loud Cover','Temperature (C)','Wind Bearing (degrees)']]\n",
    "Y = df[['Humidity','Loud Cover','Temperature (C)','Wind Bearing (degrees)']]"
   ]
  },
  {
   "cell_type": "code",
   "execution_count": 673,
   "id": "d6cb6b4d-74ea-4516-bf4b-e5e0d6cffb54",
   "metadata": {},
   "outputs": [],
   "source": [
    "X_train, X_test, Y_train, Y_test = train_test_split(X, Y, test_size = 0.1 , random_state=0)"
   ]
  },
  {
   "cell_type": "code",
   "execution_count": 674,
   "id": "285d761c-2622-41bc-8a01-baf6ec401bcb",
   "metadata": {},
   "outputs": [
    {
     "data": {
      "text/plain": [
       "(9646, 4)"
      ]
     },
     "execution_count": 674,
     "metadata": {},
     "output_type": "execute_result"
    }
   ],
   "source": [
    "X_test.shape"
   ]
  },
  {
   "cell_type": "code",
   "execution_count": 675,
   "id": "e6f48562-0132-4474-a5e3-fc66d4c63d19",
   "metadata": {},
   "outputs": [
    {
     "data": {
      "text/plain": [
       "(9646, 4)"
      ]
     },
     "execution_count": 675,
     "metadata": {},
     "output_type": "execute_result"
    }
   ],
   "source": [
    "Y_test.shape"
   ]
  },
  {
   "cell_type": "code",
   "execution_count": 676,
   "id": "9fd302d8-f090-4678-bd58-a3ffab60766f",
   "metadata": {},
   "outputs": [
    {
     "data": {
      "text/plain": [
       "(86807, 4)"
      ]
     },
     "execution_count": 676,
     "metadata": {},
     "output_type": "execute_result"
    }
   ],
   "source": [
    "X_train.shape"
   ]
  },
  {
   "cell_type": "code",
   "execution_count": 677,
   "id": "e36dd0a1-8d2b-4ef5-baa3-2a5ae5605d74",
   "metadata": {},
   "outputs": [
    {
     "data": {
      "text/plain": [
       "(86807, 4)"
      ]
     },
     "execution_count": 677,
     "metadata": {},
     "output_type": "execute_result"
    }
   ],
   "source": [
    "Y_train.shape"
   ]
  },
  {
   "cell_type": "markdown",
   "id": "49b06aa9-3f44-44d4-a582-437072c89849",
   "metadata": {},
   "source": [
    "## Model"
   ]
  },
  {
   "cell_type": "code",
   "execution_count": 678,
   "id": "a07dadd9-2477-43d2-9ede-b26e4515089d",
   "metadata": {},
   "outputs": [],
   "source": [
    "model_mnist = Sequential()"
   ]
  },
  {
   "cell_type": "markdown",
   "id": "2db6eca8-6eec-447b-9bee-26f161b6c199",
   "metadata": {},
   "source": [
    "## Input Layer"
   ]
  },
  {
   "cell_type": "code",
   "execution_count": 679,
   "id": "d13ecd03-9e24-4b46-b205-21741dfa0523",
   "metadata": {},
   "outputs": [],
   "source": [
    "model_mnist.add(Dense(512, activation='relu', input_dim = 4))"
   ]
  },
  {
   "cell_type": "markdown",
   "id": "4ff8c6f6-f537-4f6f-8a4a-ac78eb4839a5",
   "metadata": {},
   "source": [
    "\n",
    "## Hidden Layer"
   ]
  },
  {
   "cell_type": "code",
   "execution_count": 680,
   "id": "e862eed2-a7f7-4a9e-bd85-580309d8d8a4",
   "metadata": {},
   "outputs": [],
   "source": [
    "model_mnist.add(Dense(256, activation='relu'))\n",
    "model_mnist.add(Dense(128, activation='relu'))"
   ]
  },
  {
   "cell_type": "markdown",
   "id": "491f92ee-8fc4-4579-93ef-bf45b5abb054",
   "metadata": {},
   "source": [
    "## Output Layer"
   ]
  },
  {
   "cell_type": "code",
   "execution_count": 681,
   "id": "4be6d8ac-6444-4f1b-9960-7788f45af24a",
   "metadata": {},
   "outputs": [],
   "source": [
    "model_mnist.add(Dense(4, activation='softmax'))"
   ]
  },
  {
   "cell_type": "markdown",
   "id": "951a2c8f-2ec4-43a0-b639-a9275ad6c579",
   "metadata": {},
   "source": [
    "# Membuat DNN (Depp Neural Network)"
   ]
  },
  {
   "cell_type": "code",
   "execution_count": 682,
   "id": "7ac3430d-9ef1-47f7-8eba-98d6c36d80a5",
   "metadata": {},
   "outputs": [
    {
     "name": "stdout",
     "output_type": "stream",
     "text": [
      "Model: \"sequential_28\"\n",
      "_________________________________________________________________\n",
      " Layer (type)                Output Shape              Param #   \n",
      "=================================================================\n",
      " dense_144 (Dense)           (None, 512)               2560      \n",
      "                                                                 \n",
      " dense_145 (Dense)           (None, 256)               131328    \n",
      "                                                                 \n",
      " dense_146 (Dense)           (None, 128)               32896     \n",
      "                                                                 \n",
      " dense_147 (Dense)           (None, 4)                 516       \n",
      "                                                                 \n",
      "=================================================================\n",
      "Total params: 167,300\n",
      "Trainable params: 167,300\n",
      "Non-trainable params: 0\n",
      "_________________________________________________________________\n"
     ]
    }
   ],
   "source": [
    "model_mnist.summary()"
   ]
  },
  {
   "cell_type": "markdown",
   "id": "3f3f69c3-c90e-42a2-8b12-fde0e3402acb",
   "metadata": {},
   "source": [
    "### Optimalisasi Model"
   ]
  },
  {
   "cell_type": "code",
   "execution_count": 683,
   "id": "ccdaf1f3-dd21-4912-9677-5152baf0c629",
   "metadata": {},
   "outputs": [],
   "source": [
    "model_mnist.compile(\n",
    "    optimizer = 'adam', \n",
    "    loss = 'categorical_crossentropy', \n",
    "    metrics = ['accuracy']\n",
    ")"
   ]
  },
  {
   "cell_type": "code",
   "execution_count": 684,
   "id": "6ce32efd-8380-4e4d-a75d-2ab8e991f2d7",
   "metadata": {},
   "outputs": [
    {
     "name": "stdout",
     "output_type": "stream",
     "text": [
      "Epoch 1/10\n",
      "679/679 [==============================] - 6s 7ms/step - loss: 758283136.0000 - accuracy: 0.9412 - val_loss: 3324297728.0000 - val_accuracy: 0.9439\n",
      "Epoch 2/10\n",
      "679/679 [==============================] - 5s 7ms/step - loss: 13037333504.0000 - accuracy: 0.9424 - val_loss: 27045847040.0000 - val_accuracy: 0.9439\n",
      "Epoch 3/10\n",
      "679/679 [==============================] - 5s 7ms/step - loss: 53637931008.0000 - accuracy: 0.9421 - val_loss: 84900438016.0000 - val_accuracy: 0.9437\n",
      "Epoch 4/10\n",
      "679/679 [==============================] - 5s 7ms/step - loss: 132864671744.0000 - accuracy: 0.9420 - val_loss: 188906864640.0000 - val_accuracy: 0.9437\n",
      "Epoch 5/10\n",
      "679/679 [==============================] - 5s 7ms/step - loss: 280299110400.0000 - accuracy: 0.9420 - val_loss: 379382136832.0000 - val_accuracy: 0.9437\n",
      "Epoch 6/10\n",
      "679/679 [==============================] - 5s 7ms/step - loss: 508441198592.0000 - accuracy: 0.9419 - val_loss: 662383034368.0000 - val_accuracy: 0.9437\n",
      "Epoch 7/10\n",
      "679/679 [==============================] - 5s 7ms/step - loss: 872689238016.0000 - accuracy: 0.9419 - val_loss: 1102865629184.0000 - val_accuracy: 0.9437\n",
      "Epoch 8/10\n",
      "679/679 [==============================] - 5s 7ms/step - loss: 1419613569024.0000 - accuracy: 0.9420 - val_loss: 1730720825344.0000 - val_accuracy: 0.9437\n",
      "Epoch 9/10\n",
      "679/679 [==============================] - 5s 7ms/step - loss: 2118878494720.0000 - accuracy: 0.9421 - val_loss: 2469102092288.0000 - val_accuracy: 0.9437\n",
      "Epoch 10/10\n",
      "679/679 [==============================] - 5s 7ms/step - loss: 2977164951552.0000 - accuracy: 0.9419 - val_loss: 3482609254400.0000 - val_accuracy: 0.9437\n"
     ]
    }
   ],
   "source": [
    "hasil = model_mnist.fit(\n",
    "    X_train, \n",
    "    Y_train, \n",
    "    epochs = 10, \n",
    "    batch_size = 128, \n",
    "    validation_data = (X_test, Y_test)\n",
    ")"
   ]
  },
  {
   "cell_type": "code",
   "execution_count": 685,
   "id": "c14e256f-9f64-48b5-b703-a7a059aac123",
   "metadata": {},
   "outputs": [
    {
     "data": {
      "text/plain": [
       "dict_keys(['loss', 'accuracy', 'val_loss', 'val_accuracy'])"
      ]
     },
     "execution_count": 685,
     "metadata": {},
     "output_type": "execute_result"
    }
   ],
   "source": [
    "hasil.history.keys()"
   ]
  },
  {
   "cell_type": "code",
   "execution_count": 686,
   "id": "b89a260e-5a2a-4d7e-a7b1-17f706e5b71a",
   "metadata": {},
   "outputs": [
    {
     "data": {
      "image/png": "[encoded data removed]",
      "text/plain": [
       "<Figure size 1600x900 with 2 Axes>"
      ]
     },
     "metadata": {},
     "output_type": "display_data"
    }
   ],
   "source": [
    "plt.figure(figsize=(16,9))\n",
    "\n",
    "epochs_run = [i+1 for i in range(10)]\n",
    "\n",
    "# Akurasi\n",
    "plt.subplot(1,2,1)\n",
    "plt.plot(epochs_run, hasil.history['accuracy'], label='Training')\n",
    "plt.plot(epochs_run, hasil.history['val_accuracy'], label='Testing')\n",
    "plt.title(\"Akurasi\")\n",
    "plt.legend()\n",
    "\n",
    "# Loss\n",
    "plt.subplot(1,2,2)\n",
    "plt.plot(epochs_run, hasil.history['loss'], label='Training')\n",
    "plt.plot(epochs_run, hasil.history['val_loss'], label='Testing')\n",
    "plt.title(\"Loss\")\n",
    "plt.legend()\n",
    "\n",
    "plt.show()"
   ]
  },
  {
   "cell_type": "markdown",
   "id": "9dc5b056-24d5-41be-9766-b22434f281c0",
   "metadata": {},
   "source": [
    "## Evaluasi Model"
   ]
  },
  {
   "cell_type": "code",
   "execution_count": 687,
   "id": "82819bd5-f6a6-4944-961e-7dab32fdf2ac",
   "metadata": {},
   "outputs": [
    {
     "name": "stdout",
     "output_type": "stream",
     "text": [
      "302/302 [==============================] - 1s 3ms/step - loss: 3482609254400.0000 - accuracy: 0.9437\n",
      "Loss : 3482609254400.0\n",
      "Training : 0.9437072277069092\n"
     ]
    }
   ],
   "source": [
    "score = model_mnist.evaluate(X_test, Y_test)\n",
    "print(\"Loss :\",score[0])\n",
    "print(\"Training :\",score[1])"
   ]
  },
  {
   "cell_type": "code",
   "execution_count": 688,
   "id": "d685e2e8-82b8-4311-bfd6-c8baceed5ad2",
   "metadata": {},
   "outputs": [
    {
     "name": "stdout",
     "output_type": "stream",
     "text": [
      "Akurasi validasi : 94.37072277069092 %\n",
      "Akurasi : 94.19286251068115 %\n"
     ]
    }
   ],
   "source": [
    "print(\"Akurasi validasi :\", hasil.history[\"val_accuracy\"][-1] * 100, \"%\")\n",
    "print(\"Akurasi :\", hasil.history[\"accuracy\"][-1] * 100, \"%\")"
   ]
  },
  {
   "cell_type": "code",
   "execution_count": null,
   "id": "e0f2c110-abc2-4a8b-8990-fb4b865d7403",
   "metadata": {},
   "outputs": [],
   "source": []
  },
  {
   "cell_type": "code",
   "execution_count": null,
   "id": "1ad41758-9a09-4907-b38b-c8e082252a5c",
   "metadata": {},
   "outputs": [],
   "source": []
  }
 ],
 "metadata": {
  "kernelspec": {
   "display_name": "rezky_009",
   "language": "python",
   "name": "rezky_009"
  },
  "language_info": {
   "codemirror_mode": {
    "name": "ipython",
    "version": 3
   },
   "file_extension": ".py",
   "mimetype": "text/x-python",
   "name": "python",
   "nbconvert_exporter": "python",
   "pygments_lexer": "ipython3",
   "version": "3.10.7"
  }
 },
 "nbformat": 4,
 "nbformat_minor": 5
}
