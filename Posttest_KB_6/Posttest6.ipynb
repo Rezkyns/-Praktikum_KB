{
 "cells": [
  {
   "cell_type": "code",
   "execution_count": 1,
   "id": "fe2d1761-427f-426c-8d2f-348b1a2059a9",
   "metadata": {},
   "outputs": [],
   "source": [
    "import pandas as pd\n",
    "import seaborn as sns\n",
    "import warnings"
   ]
  },
  {
   "cell_type": "code",
   "execution_count": 2,
   "id": "f5e743c7-0278-4b0c-832a-f9af8aef3f46",
   "metadata": {},
   "outputs": [],
   "source": [
    "warnings.filterwarnings('ignore')"
   ]
  },
  {
   "cell_type": "code",
   "execution_count": 3,
   "id": "b29a14cd-76ae-4777-9484-381a5f984503",
   "metadata": {},
   "outputs": [],
   "source": [
    "df = pd.read_csv('thomascup_2022_tweets.csv')"
   ]
  },
  {
   "cell_type": "code",
   "execution_count": 4,
   "id": "baf7d771-b3ea-4727-9c10-c2ba47f58007",
   "metadata": {},
   "outputs": [
    {
     "data": {
      "text/html": [
       "<div>\n",
       "<style scoped>\n",
       "    .dataframe tbody tr th:only-of-type {\n",
       "        vertical-align: middle;\n",
       "    }\n",
       "\n",
       "    .dataframe tbody tr th {\n",
       "        vertical-align: top;\n",
       "    }\n",
       "\n",
       "    .dataframe thead th {\n",
       "        text-align: right;\n",
       "    }\n",
       "</style>\n",
       "<table border=\"1\" class=\"dataframe\">\n",
       "  <thead>\n",
       "    <tr style=\"text-align: right;\">\n",
       "      <th></th>\n",
       "      <th>id</th>\n",
       "      <th>text</th>\n",
       "      <th>username</th>\n",
       "      <th>hashtags</th>\n",
       "      <th>created_at</th>\n",
       "      <th>user followers count</th>\n",
       "      <th>replycount</th>\n",
       "      <th>retweetcount</th>\n",
       "      <th>likecount</th>\n",
       "      <th>quotecount</th>\n",
       "      <th>language</th>\n",
       "      <th>quotedtweet</th>\n",
       "      <th>inReplyToTweetId</th>\n",
       "      <th>inReplyToUser</th>\n",
       "      <th>mentionedUsers</th>\n",
       "    </tr>\n",
       "  </thead>\n",
       "  <tbody>\n",
       "    <tr>\n",
       "      <th>0</th>\n",
       "      <td>1529235395812155392</td>\n",
       "      <td>India has won the Thomas cup,  @nikhat_zareen ...</td>\n",
       "      <td>themohanty_</td>\n",
       "      <td>['India', 'IndianEra']</td>\n",
       "      <td>2022-05-24 22:58:24+00:00</td>\n",
       "      <td>43</td>\n",
       "      <td>0</td>\n",
       "      <td>0</td>\n",
       "      <td>3</td>\n",
       "      <td>0</td>\n",
       "      <td>en</td>\n",
       "      <td>NaN</td>\n",
       "      <td>NaN</td>\n",
       "      <td>NaN</td>\n",
       "      <td>India has won the Thomas cup,  @nikhat_zareen ...</td>\n",
       "    </tr>\n",
       "    <tr>\n",
       "      <th>1</th>\n",
       "      <td>1528224948111941633</td>\n",
       "      <td>PM’s interaction with Thomas Cup Champions is ...</td>\n",
       "      <td>goikarpk</td>\n",
       "      <td>['India', 'ThomasCup']</td>\n",
       "      <td>2022-05-22 04:03:15+00:00</td>\n",
       "      <td>51</td>\n",
       "      <td>0</td>\n",
       "      <td>0</td>\n",
       "      <td>1</td>\n",
       "      <td>0</td>\n",
       "      <td>en</td>\n",
       "      <td>NaN</td>\n",
       "      <td>NaN</td>\n",
       "      <td>NaN</td>\n",
       "      <td>PM’s interaction with Thomas Cup Champions is ...</td>\n",
       "    </tr>\n",
       "    <tr>\n",
       "      <th>2</th>\n",
       "      <td>1527216966171144193</td>\n",
       "      <td>India won maiden Thomas Cup after defeating 14...</td>\n",
       "      <td>BeShararat</td>\n",
       "      <td>['ThomasCup', 'India', 'ThomasUberCup2022']</td>\n",
       "      <td>2022-05-19 09:17:53+00:00</td>\n",
       "      <td>4</td>\n",
       "      <td>0</td>\n",
       "      <td>1</td>\n",
       "      <td>1</td>\n",
       "      <td>0</td>\n",
       "      <td>en</td>\n",
       "      <td>NaN</td>\n",
       "      <td>NaN</td>\n",
       "      <td>NaN</td>\n",
       "      <td>India won maiden Thomas Cup after defeating 14...</td>\n",
       "    </tr>\n",
       "    <tr>\n",
       "      <th>3</th>\n",
       "      <td>1526912239910785024</td>\n",
       "      <td>#India's bunch of exceptionally proficient #Ba...</td>\n",
       "      <td>aaiprayagraj</td>\n",
       "      <td>['India', 'Badminton', 'ThomasCup2022', 'Bangk...</td>\n",
       "      <td>2022-05-18 13:07:01+00:00</td>\n",
       "      <td>1553</td>\n",
       "      <td>0</td>\n",
       "      <td>1</td>\n",
       "      <td>1</td>\n",
       "      <td>0</td>\n",
       "      <td>en</td>\n",
       "      <td>NaN</td>\n",
       "      <td>NaN</td>\n",
       "      <td>NaN</td>\n",
       "      <td>#India's bunch of exceptionally proficient #Ba...</td>\n",
       "    </tr>\n",
       "    <tr>\n",
       "      <th>4</th>\n",
       "      <td>1526893293136924672</td>\n",
       "      <td>#India's bunch of exceptionally proficient #Ba...</td>\n",
       "      <td>aaisapairport</td>\n",
       "      <td>['India', 'Badminton', 'ThomasCup2022', 'Bangk...</td>\n",
       "      <td>2022-05-18 11:51:44+00:00</td>\n",
       "      <td>1192</td>\n",
       "      <td>0</td>\n",
       "      <td>0</td>\n",
       "      <td>0</td>\n",
       "      <td>0</td>\n",
       "      <td>en</td>\n",
       "      <td>NaN</td>\n",
       "      <td>NaN</td>\n",
       "      <td>NaN</td>\n",
       "      <td>#India's bunch of exceptionally proficient #Ba...</td>\n",
       "    </tr>\n",
       "  </tbody>\n",
       "</table>\n",
       "</div>"
      ],
      "text/plain": [
       "                    id                                               text  \\\n",
       "0  1529235395812155392  India has won the Thomas cup,  @nikhat_zareen ...   \n",
       "1  1528224948111941633  PM’s interaction with Thomas Cup Champions is ...   \n",
       "2  1527216966171144193  India won maiden Thomas Cup after defeating 14...   \n",
       "3  1526912239910785024  #India's bunch of exceptionally proficient #Ba...   \n",
       "4  1526893293136924672  #India's bunch of exceptionally proficient #Ba...   \n",
       "\n",
       "        username                                           hashtags  \\\n",
       "0    themohanty_                             ['India', 'IndianEra']   \n",
       "1       goikarpk                             ['India', 'ThomasCup']   \n",
       "2     BeShararat        ['ThomasCup', 'India', 'ThomasUberCup2022']   \n",
       "3   aaiprayagraj  ['India', 'Badminton', 'ThomasCup2022', 'Bangk...   \n",
       "4  aaisapairport  ['India', 'Badminton', 'ThomasCup2022', 'Bangk...   \n",
       "\n",
       "                  created_at  user followers count  replycount  retweetcount  \\\n",
       "0  2022-05-24 22:58:24+00:00                    43           0             0   \n",
       "1  2022-05-22 04:03:15+00:00                    51           0             0   \n",
       "2  2022-05-19 09:17:53+00:00                     4           0             1   \n",
       "3  2022-05-18 13:07:01+00:00                  1553           0             1   \n",
       "4  2022-05-18 11:51:44+00:00                  1192           0             0   \n",
       "\n",
       "   likecount  quotecount language  quotedtweet  inReplyToTweetId  \\\n",
       "0          3           0       en          NaN               NaN   \n",
       "1          1           0       en          NaN               NaN   \n",
       "2          1           0       en          NaN               NaN   \n",
       "3          1           0       en          NaN               NaN   \n",
       "4          0           0       en          NaN               NaN   \n",
       "\n",
       "  inReplyToUser                                     mentionedUsers  \n",
       "0           NaN  India has won the Thomas cup,  @nikhat_zareen ...  \n",
       "1           NaN  PM’s interaction with Thomas Cup Champions is ...  \n",
       "2           NaN  India won maiden Thomas Cup after defeating 14...  \n",
       "3           NaN  #India's bunch of exceptionally proficient #Ba...  \n",
       "4           NaN  #India's bunch of exceptionally proficient #Ba...  "
      ]
     },
     "execution_count": 4,
     "metadata": {},
     "output_type": "execute_result"
    }
   ],
   "source": [
    "df.head()"
   ]
  },
  {
   "cell_type": "code",
   "execution_count": 5,
   "id": "1debac65-db59-48cd-b67e-b50e103d44b7",
   "metadata": {},
   "outputs": [],
   "source": [
    "from sklearn.preprocessing import StandardScaler"
   ]
  },
  {
   "cell_type": "code",
   "execution_count": 7,
   "id": "e2e53249-5992-42e3-8d17-a250f18535a3",
   "metadata": {},
   "outputs": [],
   "source": [
    "df_subset = df[['user followers count', 'retweetcount']]"
   ]
  },
  {
   "cell_type": "code",
   "execution_count": 8,
   "id": "c9dbb5b1-14a9-4414-b630-030a2406eec5",
   "metadata": {},
   "outputs": [],
   "source": [
    "ss = StandardScaler()"
   ]
  },
  {
   "cell_type": "code",
   "execution_count": 9,
   "id": "9000552e-e2f3-49dd-a6d9-7f6a7053bcee",
   "metadata": {},
   "outputs": [],
   "source": [
    "x_scaled = ss.fit_transform(df_subset)"
   ]
  },
  {
   "cell_type": "markdown",
   "id": "063651ac-41b5-4052-9841-81668d3b3988",
   "metadata": {},
   "source": [
    "## 1 Algoritma Pada Unsupervised Learning"
   ]
  },
  {
   "cell_type": "code",
   "execution_count": 10,
   "id": "799e7b6f-3b1e-475c-96a0-c05df2689322",
   "metadata": {},
   "outputs": [],
   "source": [
    "from sklearn.cluster import KMeans"
   ]
  },
  {
   "cell_type": "code",
   "execution_count": 13,
   "id": "27e94786-8091-451c-9054-080c3d5aeded",
   "metadata": {},
   "outputs": [],
   "source": [
    "model_kmeans = KMeans(n_clusters = 3)"
   ]
  },
  {
   "cell_type": "code",
   "execution_count": 14,
   "id": "5a1ad2ec-9bf5-4d79-8af8-52df916515ad",
   "metadata": {},
   "outputs": [
    {
     "data": {
      "text/html": [
       "<style>#sk-container-id-1 {color: black;background-color: white;}#sk-container-id-1 pre{padding: 0;}#sk-container-id-1 div.sk-toggleable {background-color: white;}#sk-container-id-1 label.sk-toggleable__label {cursor: pointer;display: block;width: 100%;margin-bottom: 0;padding: 0.3em;box-sizing: border-box;text-align: center;}#sk-container-id-1 label.sk-toggleable__label-arrow:before {content: \"▸\";float: left;margin-right: 0.25em;color: #696969;}#sk-container-id-1 label.sk-toggleable__label-arrow:hover:before {color: black;}#sk-container-id-1 div.sk-estimator:hover label.sk-toggleable__label-arrow:before {color: black;}#sk-container-id-1 div.sk-toggleable__content {max-height: 0;max-width: 0;overflow: hidden;text-align: left;background-color: #f0f8ff;}#sk-container-id-1 div.sk-toggleable__content pre {margin: 0.2em;color: black;border-radius: 0.25em;background-color: #f0f8ff;}#sk-container-id-1 input.sk-toggleable__control:checked~div.sk-toggleable__content {max-height: 200px;max-width: 100%;overflow: auto;}#sk-container-id-1 input.sk-toggleable__control:checked~label.sk-toggleable__label-arrow:before {content: \"▾\";}#sk-container-id-1 div.sk-estimator input.sk-toggleable__control:checked~label.sk-toggleable__label {background-color: #d4ebff;}#sk-container-id-1 div.sk-label input.sk-toggleable__control:checked~label.sk-toggleable__label {background-color: #d4ebff;}#sk-container-id-1 input.sk-hidden--visually {border: 0;clip: rect(1px 1px 1px 1px);clip: rect(1px, 1px, 1px, 1px);height: 1px;margin: -1px;overflow: hidden;padding: 0;position: absolute;width: 1px;}#sk-container-id-1 div.sk-estimator {font-family: monospace;background-color: #f0f8ff;border: 1px dotted black;border-radius: 0.25em;box-sizing: border-box;margin-bottom: 0.5em;}#sk-container-id-1 div.sk-estimator:hover {background-color: #d4ebff;}#sk-container-id-1 div.sk-parallel-item::after {content: \"\";width: 100%;border-bottom: 1px solid gray;flex-grow: 1;}#sk-container-id-1 div.sk-label:hover label.sk-toggleable__label {background-color: #d4ebff;}#sk-container-id-1 div.sk-serial::before {content: \"\";position: absolute;border-left: 1px solid gray;box-sizing: border-box;top: 0;bottom: 0;left: 50%;z-index: 0;}#sk-container-id-1 div.sk-serial {display: flex;flex-direction: column;align-items: center;background-color: white;padding-right: 0.2em;padding-left: 0.2em;position: relative;}#sk-container-id-1 div.sk-item {position: relative;z-index: 1;}#sk-container-id-1 div.sk-parallel {display: flex;align-items: stretch;justify-content: center;background-color: white;position: relative;}#sk-container-id-1 div.sk-item::before, #sk-container-id-1 div.sk-parallel-item::before {content: \"\";position: absolute;border-left: 1px solid gray;box-sizing: border-box;top: 0;bottom: 0;left: 50%;z-index: -1;}#sk-container-id-1 div.sk-parallel-item {display: flex;flex-direction: column;z-index: 1;position: relative;background-color: white;}#sk-container-id-1 div.sk-parallel-item:first-child::after {align-self: flex-end;width: 50%;}#sk-container-id-1 div.sk-parallel-item:last-child::after {align-self: flex-start;width: 50%;}#sk-container-id-1 div.sk-parallel-item:only-child::after {width: 0;}#sk-container-id-1 div.sk-dashed-wrapped {border: 1px dashed gray;margin: 0 0.4em 0.5em 0.4em;box-sizing: border-box;padding-bottom: 0.4em;background-color: white;}#sk-container-id-1 div.sk-label label {font-family: monospace;font-weight: bold;display: inline-block;line-height: 1.2em;}#sk-container-id-1 div.sk-label-container {text-align: center;}#sk-container-id-1 div.sk-container {/* jupyter's `normalize.less` sets `[hidden] { display: none; }` but bootstrap.min.css set `[hidden] { display: none !important; }` so we also need the `!important` here to be able to override the default hidden behavior on the sphinx rendered scikit-learn.org. See: https://github.com/scikit-learn/scikit-learn/issues/21755 */display: inline-block !important;position: relative;}#sk-container-id-1 div.sk-text-repr-fallback {display: none;}</style><div id=\"sk-container-id-1\" class=\"sk-top-container\"><div class=\"sk-text-repr-fallback\"><pre>KMeans(n_clusters=3)</pre><b>In a Jupyter environment, please rerun this cell to show the HTML representation or trust the notebook. <br />On GitHub, the HTML representation is unable to render, please try loading this page with nbviewer.org.</b></div><div class=\"sk-container\" hidden><div class=\"sk-item\"><div class=\"sk-estimator sk-toggleable\"><input class=\"sk-toggleable__control sk-hidden--visually\" id=\"sk-estimator-id-1\" type=\"checkbox\" checked><label for=\"sk-estimator-id-1\" class=\"sk-toggleable__label sk-toggleable__label-arrow\">KMeans</label><div class=\"sk-toggleable__content\"><pre>KMeans(n_clusters=3)</pre></div></div></div></div></div>"
      ],
      "text/plain": [
       "KMeans(n_clusters=3)"
      ]
     },
     "execution_count": 14,
     "metadata": {},
     "output_type": "execute_result"
    }
   ],
   "source": [
    "model_kmeans.fit(x_scaled)"
   ]
  },
  {
   "cell_type": "code",
   "execution_count": 15,
   "id": "f61c7dae-bff9-4af3-996c-b70718e0b367",
   "metadata": {},
   "outputs": [],
   "source": [
    "labels = model_kmeans.labels_"
   ]
  },
  {
   "cell_type": "code",
   "execution_count": 16,
   "id": "0a936ab4-2a28-48c6-8584-f130f8788370",
   "metadata": {},
   "outputs": [
    {
     "name": "stdout",
     "output_type": "stream",
     "text": [
      "[1 1 1 ... 1 1 1]\n"
     ]
    }
   ],
   "source": [
    "print(labels)"
   ]
  },
  {
   "cell_type": "markdown",
   "id": "91bcd06c-c505-4ec9-9c37-662985c247f9",
   "metadata": {},
   "source": [
    "## Buat Cross_tab untuk membandingkan antar cluster\n"
   ]
  },
  {
   "cell_type": "code",
   "execution_count": 25,
   "id": "d8122462-96de-46d9-9cfc-5937430ca785",
   "metadata": {},
   "outputs": [],
   "source": [
    "df_kmeans = pd.DataFrame({'labels': labels, 'quotecount': df.quotecount})"
   ]
  },
  {
   "cell_type": "code",
   "execution_count": 26,
   "id": "e07f6797-19a6-4e3b-b054-a04f661d9383",
   "metadata": {},
   "outputs": [],
   "source": [
    "ct1 = pd.crosstab(df_kmeans['labels'], df_kmeans['quotecount'])"
   ]
  },
  {
   "cell_type": "code",
   "execution_count": 27,
   "id": "f371f357-8079-4d1f-9335-923435e94337",
   "metadata": {},
   "outputs": [
    {
     "name": "stdout",
     "output_type": "stream",
     "text": [
      "quotecount   0    1    2    3    4    5    6    7    8    9    ...  201  217  \\\n",
      "labels                                                         ...             \n",
      "0              2    3    1    1    3    0    0    0    1    0  ...    0    0   \n",
      "1           9178  282   41   21   12    8    9    8    8    9  ...    1    1   \n",
      "2              0    0    0    0    0    0    0    0    0    0  ...    0    0   \n",
      "\n",
      "quotecount  236  340  380  489  749  760  769  841  \n",
      "labels                                              \n",
      "0             0    0    0    0    0    0    0    0  \n",
      "1             0    1    0    1    1    1    0    0  \n",
      "2             1    0    1    0    0    0    1    1  \n",
      "\n",
      "[3 rows x 77 columns]\n"
     ]
    }
   ],
   "source": [
    "print(ct1)"
   ]
  },
  {
   "cell_type": "markdown",
   "id": "fb0406a8-09fe-46fa-b098-6ae405289700",
   "metadata": {},
   "source": [
    "## Tampilkan Visualisasi Model"
   ]
  },
  {
   "cell_type": "code",
   "execution_count": 35,
   "id": "bb000801-4583-4f7e-aaf1-cdc351b8cf9e",
   "metadata": {},
   "outputs": [
    {
     "data": {
      "image/png": "[encoded data removed]",
      "text/plain": [
       "<Figure size 640x480 with 1 Axes>"
      ]
     },
     "metadata": {},
     "output_type": "display_data"
    }
   ],
   "source": [
    "df_aktual = df[[\"user followers count\", \"retweetcount\", \"quotecount\"]]\n",
    "sns.scatterplot(x = \"user followers count\", y = \"retweetcount\", data = df_aktual, hue = \"quotecount\")\n",
    "plt.show()"
   ]
  },
  {
   "cell_type": "code",
   "execution_count": null,
   "id": "d5a55216-40d7-4ecb-9048-bc5a69b9b26b",
   "metadata": {},
   "outputs": [],
   "source": []
  }
 ],
 "metadata": {
  "kernelspec": {
   "display_name": "rezky_009",
   "language": "python",
   "name": "rezky_009"
  },
  "language_info": {
   "codemirror_mode": {
    "name": "ipython",
    "version": 3
   },
   "file_extension": ".py",
   "mimetype": "text/x-python",
   "name": "python",
   "nbconvert_exporter": "python",
   "pygments_lexer": "ipython3",
   "version": "3.10.7"
  }
 },
 "nbformat": 4,
 "nbformat_minor": 5
}
