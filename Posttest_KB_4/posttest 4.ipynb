{
 "cells": [
  {
   "cell_type": "markdown",
   "id": "40924730-5b7b-46cf-8a12-1365b6baada6",
   "metadata": {},
   "source": [
    "## library "
   ]
  },
  {
   "cell_type": "code",
   "execution_count": null,
   "id": "80a682cb-be63-4b8f-abf5-17dfcea5e4ac",
   "metadata": {},
   "outputs": [],
   "source": [
    "import pandas as pd\n",
    "import numpy as np\n",
    "from sklearn.model_selection import train_test_split"
   ]
  },
  {
   "cell_type": "code",
   "execution_count": null,
   "id": "bbc596dc-afb6-40bd-be57-a8e37d3d6164",
   "metadata": {},
   "outputs": [],
   "source": [
    "df = pd.read_csv(\"Car details v3.csv\")"
   ]
  },
  {
   "cell_type": "markdown",
   "id": "c01ec3b6-5c22-4949-885b-feb655c92c77",
   "metadata": {},
   "source": [
    "## Membagi dataset menjadi traning dan testing"
   ]
  },
  {
   "cell_type": "code",
   "execution_count": null,
   "id": "f4e532d3-55ba-41e5-89d5-2a49d0651834",
   "metadata": {},
   "outputs": [],
   "source": [
    "X = df.iloc[:,:-1]\n",
    "y = df.iloc[:,-1]\n",
    "\n",
    "X_train, X_test, y_train, y_test = train_test_split(X, y, test_size=0.2)"
   ]
  },
  {
   "cell_type": "code",
   "execution_count": null,
   "id": "ffe7040a-532f-4a84-8289-eaa9bbe14b17",
   "metadata": {},
   "outputs": [
    {
     "name": "stdout",
     "output_type": "stream",
     "text": [
      "Dimensi X_train:  (6502, 12)\n",
      "Dimensi X_test:  (1626, 12)\n",
      "Dimensi y_train:  (1626,)\n",
      "Dimensi y_test:  (6502,)\n"
     ]
    }
   ],
   "source": [
    "print(\"Dimensi X_train: \", X_train.shape)\n",
    "print(\"Dimensi X_test: \", X_test.shape)\n",
    "print(\"Dimensi y_train: \", y_test.shape)\n",
    "print(\"Dimensi y_test: \", y_train.shape)"
   ]
  },
  {
   "cell_type": "markdown",
   "id": "cc420c62-9dcb-4c6d-8c23-92b5087dc15c",
   "metadata": {},
   "source": [
    "## Data Cleaning Pada Nilai NULL"
   ]
  },
  {
   "cell_type": "code",
   "execution_count": 61,
   "id": "6f4f8852-3330-4b7c-b967-8596290b691d",
   "metadata": {},
   "outputs": [
    {
     "data": {
      "text/plain": [
       "name               0\n",
       "year               0\n",
       "selling_price      0\n",
       "km_driven          0\n",
       "fuel               0\n",
       "seller_type        0\n",
       "transmission       0\n",
       "owner              0\n",
       "mileage          221\n",
       "engine           221\n",
       "max_power        215\n",
       "torque           222\n",
       "seats              0\n",
       "dtype: int64"
      ]
     },
     "execution_count": 61,
     "metadata": {},
     "output_type": "execute_result"
    }
   ],
   "source": [
    "df.isna().sum()"
   ]
  },
  {
   "cell_type": "code",
   "execution_count": 69,
   "id": "511543c2-05fd-4a2b-aad0-7a4d38291c3d",
   "metadata": {},
   "outputs": [],
   "source": [
    "from sklearn.impute import SimpleImputer\n",
    "imputer = SimpleImputer(strategy=\"mean\")"
   ]
  },
  {
   "cell_type": "code",
   "execution_count": 73,
   "id": "54c28df4-9d5c-497a-9bb6-f007f304ce23",
   "metadata": {},
   "outputs": [],
   "source": [
    "df[\"selling_price\"] = imputer.fit_transform(df[[\"selling_price\"]])"
   ]
  },
  {
   "cell_type": "code",
   "execution_count": 74,
   "id": "11465978-e63b-400b-8194-cc2ffe89786b",
   "metadata": {},
   "outputs": [
    {
     "data": {
      "text/plain": [
       "name               0\n",
       "year               0\n",
       "selling_price      0\n",
       "km_driven          0\n",
       "fuel               0\n",
       "seller_type        0\n",
       "transmission       0\n",
       "owner              0\n",
       "mileage          221\n",
       "engine           221\n",
       "max_power        215\n",
       "torque           222\n",
       "seats              0\n",
       "dtype: int64"
      ]
     },
     "execution_count": 74,
     "metadata": {},
     "output_type": "execute_result"
    }
   ],
   "source": [
    "df.isna().sum()"
   ]
  },
  {
   "cell_type": "code",
   "execution_count": 75,
   "id": "e8c4ee85-e079-4fd0-b441-fe2957296097",
   "metadata": {},
   "outputs": [
    {
     "data": {
      "text/html": [
       "<div>\n",
       "<style scoped>\n",
       "    .dataframe tbody tr th:only-of-type {\n",
       "        vertical-align: middle;\n",
       "    }\n",
       "\n",
       "    .dataframe tbody tr th {\n",
       "        vertical-align: top;\n",
       "    }\n",
       "\n",
       "    .dataframe thead th {\n",
       "        text-align: right;\n",
       "    }\n",
       "</style>\n",
       "<table border=\"1\" class=\"dataframe\">\n",
       "  <thead>\n",
       "    <tr style=\"text-align: right;\">\n",
       "      <th></th>\n",
       "      <th>name</th>\n",
       "      <th>year</th>\n",
       "      <th>selling_price</th>\n",
       "      <th>km_driven</th>\n",
       "      <th>fuel</th>\n",
       "      <th>seller_type</th>\n",
       "      <th>transmission</th>\n",
       "      <th>owner</th>\n",
       "      <th>mileage</th>\n",
       "      <th>engine</th>\n",
       "      <th>max_power</th>\n",
       "      <th>torque</th>\n",
       "      <th>seats</th>\n",
       "    </tr>\n",
       "  </thead>\n",
       "  <tbody>\n",
       "    <tr>\n",
       "      <th>60</th>\n",
       "      <td>Mercedes-Benz New C-Class 220 CDI AT</td>\n",
       "      <td>2013.0</td>\n",
       "      <td>1425000.0</td>\n",
       "      <td>59000</td>\n",
       "      <td>Diesel</td>\n",
       "      <td>Dealer</td>\n",
       "      <td>Automatic</td>\n",
       "      <td>First Owner</td>\n",
       "      <td>14.84 kmpl</td>\n",
       "      <td>2143 CC</td>\n",
       "      <td>170 bhp</td>\n",
       "      <td>400Nm@ 1400-2800rpm</td>\n",
       "      <td>5.0</td>\n",
       "    </tr>\n",
       "    <tr>\n",
       "      <th>61</th>\n",
       "      <td>Tata Manza ELAN Quadrajet BS IV</td>\n",
       "      <td>2011.0</td>\n",
       "      <td>265000.0</td>\n",
       "      <td>120000</td>\n",
       "      <td>Diesel</td>\n",
       "      <td>Individual</td>\n",
       "      <td>Manual</td>\n",
       "      <td>First Owner</td>\n",
       "      <td>21.12 kmpl</td>\n",
       "      <td>1248 CC</td>\n",
       "      <td>88.8 bhp</td>\n",
       "      <td>200Nm@ 1750-3000rpm</td>\n",
       "      <td>5.0</td>\n",
       "    </tr>\n",
       "    <tr>\n",
       "      <th>62</th>\n",
       "      <td>Hyundai i10 Magna</td>\n",
       "      <td>2011.0</td>\n",
       "      <td>190000.0</td>\n",
       "      <td>110000</td>\n",
       "      <td>Petrol</td>\n",
       "      <td>Individual</td>\n",
       "      <td>Manual</td>\n",
       "      <td>Third Owner</td>\n",
       "      <td>20.36 kmpl</td>\n",
       "      <td>1197 CC</td>\n",
       "      <td>78.9 bhp</td>\n",
       "      <td>111.7Nm@ 4000rpm</td>\n",
       "      <td>5.0</td>\n",
       "    </tr>\n",
       "    <tr>\n",
       "      <th>63</th>\n",
       "      <td>Hyundai i20 Asta 1.4 CRDi</td>\n",
       "      <td>2013.0</td>\n",
       "      <td>425000.0</td>\n",
       "      <td>60000</td>\n",
       "      <td>Diesel</td>\n",
       "      <td>Individual</td>\n",
       "      <td>Manual</td>\n",
       "      <td>First Owner</td>\n",
       "      <td>21.27 kmpl</td>\n",
       "      <td>1396 CC</td>\n",
       "      <td>88.76 bhp</td>\n",
       "      <td>219.6Nm@ 1500-2750rpm</td>\n",
       "      <td>5.0</td>\n",
       "    </tr>\n",
       "    <tr>\n",
       "      <th>64</th>\n",
       "      <td>Maruti Swift Dzire ZDI</td>\n",
       "      <td>2015.0</td>\n",
       "      <td>630000.0</td>\n",
       "      <td>147000</td>\n",
       "      <td>Diesel</td>\n",
       "      <td>Individual</td>\n",
       "      <td>Manual</td>\n",
       "      <td>Second Owner</td>\n",
       "      <td>26.59 kmpl</td>\n",
       "      <td>1248 CC</td>\n",
       "      <td>74 bhp</td>\n",
       "      <td>190Nm@ 2000rpm</td>\n",
       "      <td>5.0</td>\n",
       "    </tr>\n",
       "    <tr>\n",
       "      <th>65</th>\n",
       "      <td>Ford Figo 1.2P Titanium MT</td>\n",
       "      <td>2017.0</td>\n",
       "      <td>600000.0</td>\n",
       "      <td>25000</td>\n",
       "      <td>Petrol</td>\n",
       "      <td>Individual</td>\n",
       "      <td>Manual</td>\n",
       "      <td>Third Owner</td>\n",
       "      <td>18.16 kmpl</td>\n",
       "      <td>1196 CC</td>\n",
       "      <td>86.8 bhp</td>\n",
       "      <td>112Nm@ 4000rpm</td>\n",
       "      <td>5.0</td>\n",
       "    </tr>\n",
       "    <tr>\n",
       "      <th>66</th>\n",
       "      <td>Maruti Baleno Delta 1.2</td>\n",
       "      <td>2019.0</td>\n",
       "      <td>650000.0</td>\n",
       "      <td>30000</td>\n",
       "      <td>Petrol</td>\n",
       "      <td>Individual</td>\n",
       "      <td>Manual</td>\n",
       "      <td>First Owner</td>\n",
       "      <td>21.4 kmpl</td>\n",
       "      <td>1197 CC</td>\n",
       "      <td>83.1 bhp</td>\n",
       "      <td>115Nm@ 4000rpm</td>\n",
       "      <td>5.0</td>\n",
       "    </tr>\n",
       "    <tr>\n",
       "      <th>67</th>\n",
       "      <td>Volkswagen Ameo 1.5 TDI Highline 16 Alloy</td>\n",
       "      <td>2016.0</td>\n",
       "      <td>540000.0</td>\n",
       "      <td>40000</td>\n",
       "      <td>Diesel</td>\n",
       "      <td>Individual</td>\n",
       "      <td>Manual</td>\n",
       "      <td>First Owner</td>\n",
       "      <td>22.0 kmpl</td>\n",
       "      <td>1498 CC</td>\n",
       "      <td>108.495 bhp</td>\n",
       "      <td>250Nm@ 1500-3000rpm</td>\n",
       "      <td>5.0</td>\n",
       "    </tr>\n",
       "    <tr>\n",
       "      <th>68</th>\n",
       "      <td>Honda City i DTEC VX</td>\n",
       "      <td>2015.0</td>\n",
       "      <td>630000.0</td>\n",
       "      <td>135000</td>\n",
       "      <td>Diesel</td>\n",
       "      <td>Individual</td>\n",
       "      <td>Manual</td>\n",
       "      <td>First Owner</td>\n",
       "      <td>25.1 kmpl</td>\n",
       "      <td>1498 CC</td>\n",
       "      <td>98.6 bhp</td>\n",
       "      <td>200Nm@ 1750rpm</td>\n",
       "      <td>5.0</td>\n",
       "    </tr>\n",
       "    <tr>\n",
       "      <th>69</th>\n",
       "      <td>Maruti Wagon R AMT VXI</td>\n",
       "      <td>2018.0</td>\n",
       "      <td>448000.0</td>\n",
       "      <td>30000</td>\n",
       "      <td>Petrol</td>\n",
       "      <td>Individual</td>\n",
       "      <td>Automatic</td>\n",
       "      <td>First Owner</td>\n",
       "      <td>20.51 kmpl</td>\n",
       "      <td>998 CC</td>\n",
       "      <td>67 bhp</td>\n",
       "      <td>90Nm@ 3500rpm</td>\n",
       "      <td>5.0</td>\n",
       "    </tr>\n",
       "  </tbody>\n",
       "</table>\n",
       "</div>"
      ],
      "text/plain": [
       "                                         name    year  selling_price  \\\n",
       "60       Mercedes-Benz New C-Class 220 CDI AT  2013.0      1425000.0   \n",
       "61            Tata Manza ELAN Quadrajet BS IV  2011.0       265000.0   \n",
       "62                          Hyundai i10 Magna  2011.0       190000.0   \n",
       "63                  Hyundai i20 Asta 1.4 CRDi  2013.0       425000.0   \n",
       "64                     Maruti Swift Dzire ZDI  2015.0       630000.0   \n",
       "65                 Ford Figo 1.2P Titanium MT  2017.0       600000.0   \n",
       "66                    Maruti Baleno Delta 1.2  2019.0       650000.0   \n",
       "67  Volkswagen Ameo 1.5 TDI Highline 16 Alloy  2016.0       540000.0   \n",
       "68                       Honda City i DTEC VX  2015.0       630000.0   \n",
       "69                     Maruti Wagon R AMT VXI  2018.0       448000.0   \n",
       "\n",
       "    km_driven    fuel seller_type transmission         owner     mileage  \\\n",
       "60      59000  Diesel      Dealer    Automatic   First Owner  14.84 kmpl   \n",
       "61     120000  Diesel  Individual       Manual   First Owner  21.12 kmpl   \n",
       "62     110000  Petrol  Individual       Manual   Third Owner  20.36 kmpl   \n",
       "63      60000  Diesel  Individual       Manual   First Owner  21.27 kmpl   \n",
       "64     147000  Diesel  Individual       Manual  Second Owner  26.59 kmpl   \n",
       "65      25000  Petrol  Individual       Manual   Third Owner  18.16 kmpl   \n",
       "66      30000  Petrol  Individual       Manual   First Owner   21.4 kmpl   \n",
       "67      40000  Diesel  Individual       Manual   First Owner   22.0 kmpl   \n",
       "68     135000  Diesel  Individual       Manual   First Owner   25.1 kmpl   \n",
       "69      30000  Petrol  Individual    Automatic   First Owner  20.51 kmpl   \n",
       "\n",
       "     engine    max_power                 torque  seats  \n",
       "60  2143 CC      170 bhp    400Nm@ 1400-2800rpm    5.0  \n",
       "61  1248 CC     88.8 bhp    200Nm@ 1750-3000rpm    5.0  \n",
       "62  1197 CC     78.9 bhp       111.7Nm@ 4000rpm    5.0  \n",
       "63  1396 CC    88.76 bhp  219.6Nm@ 1500-2750rpm    5.0  \n",
       "64  1248 CC       74 bhp         190Nm@ 2000rpm    5.0  \n",
       "65  1196 CC     86.8 bhp         112Nm@ 4000rpm    5.0  \n",
       "66  1197 CC     83.1 bhp         115Nm@ 4000rpm    5.0  \n",
       "67  1498 CC  108.495 bhp    250Nm@ 1500-3000rpm    5.0  \n",
       "68  1498 CC     98.6 bhp         200Nm@ 1750rpm    5.0  \n",
       "69   998 CC       67 bhp          90Nm@ 3500rpm    5.0  "
      ]
     },
     "execution_count": 75,
     "metadata": {},
     "output_type": "execute_result"
    }
   ],
   "source": [
    "df[60:70]"
   ]
  },
  {
   "cell_type": "code",
   "execution_count": 76,
   "id": "8ac942de-1acd-4233-9b63-c1d1216b85e7",
   "metadata": {},
   "outputs": [
    {
     "data": {
      "text/plain": [
       "name               0\n",
       "year               0\n",
       "selling_price      0\n",
       "km_driven          0\n",
       "fuel               0\n",
       "seller_type        0\n",
       "transmission       0\n",
       "owner              0\n",
       "mileage          221\n",
       "engine           221\n",
       "max_power        215\n",
       "torque           222\n",
       "seats              0\n",
       "dtype: int64"
      ]
     },
     "execution_count": 76,
     "metadata": {},
     "output_type": "execute_result"
    }
   ],
   "source": [
    "df.isna().sum()"
   ]
  },
  {
   "cell_type": "code",
   "execution_count": 78,
   "id": "cd49a9d7-9a0c-47de-9d3b-27065d169902",
   "metadata": {},
   "outputs": [],
   "source": [
    "df[\"year\"] = df[\"year\"].fillna(df[\"year\"].mean())"
   ]
  },
  {
   "cell_type": "code",
   "execution_count": 79,
   "id": "feccb1bb-b808-442c-b370-4a7cd1de4143",
   "metadata": {},
   "outputs": [
    {
     "data": {
      "text/plain": [
       "name               0\n",
       "year               0\n",
       "selling_price      0\n",
       "km_driven          0\n",
       "fuel               0\n",
       "seller_type        0\n",
       "transmission       0\n",
       "owner              0\n",
       "mileage          221\n",
       "engine           221\n",
       "max_power        215\n",
       "torque           222\n",
       "seats              0\n",
       "dtype: int64"
      ]
     },
     "execution_count": 79,
     "metadata": {},
     "output_type": "execute_result"
    }
   ],
   "source": [
    "df.isna().sum()"
   ]
  },
  {
   "cell_type": "markdown",
   "id": "2439f1fe-05e2-4309-9a51-bf65c21e0d8a",
   "metadata": {},
   "source": [
    "## Data Cleaning Pada Nilai Duplikat"
   ]
  },
  {
   "cell_type": "code",
   "execution_count": 80,
   "id": "b28be7bb-eab5-4ed7-9c8a-990705005321",
   "metadata": {},
   "outputs": [
    {
     "data": {
      "text/html": [
       "<div>\n",
       "<style scoped>\n",
       "    .dataframe tbody tr th:only-of-type {\n",
       "        vertical-align: middle;\n",
       "    }\n",
       "\n",
       "    .dataframe tbody tr th {\n",
       "        vertical-align: top;\n",
       "    }\n",
       "\n",
       "    .dataframe thead th {\n",
       "        text-align: right;\n",
       "    }\n",
       "</style>\n",
       "<table border=\"1\" class=\"dataframe\">\n",
       "  <thead>\n",
       "    <tr style=\"text-align: right;\">\n",
       "      <th></th>\n",
       "      <th>name</th>\n",
       "      <th>year</th>\n",
       "      <th>selling_price</th>\n",
       "      <th>km_driven</th>\n",
       "      <th>fuel</th>\n",
       "      <th>seller_type</th>\n",
       "      <th>transmission</th>\n",
       "      <th>owner</th>\n",
       "      <th>mileage</th>\n",
       "      <th>engine</th>\n",
       "      <th>max_power</th>\n",
       "      <th>torque</th>\n",
       "      <th>seats</th>\n",
       "    </tr>\n",
       "  </thead>\n",
       "  <tbody>\n",
       "    <tr>\n",
       "      <th>291</th>\n",
       "      <td>Hyundai Grand i10 Sportz</td>\n",
       "      <td>2017.0</td>\n",
       "      <td>450000.0</td>\n",
       "      <td>35000</td>\n",
       "      <td>Petrol</td>\n",
       "      <td>Individual</td>\n",
       "      <td>Manual</td>\n",
       "      <td>First Owner</td>\n",
       "      <td>18.9 kmpl</td>\n",
       "      <td>1197 CC</td>\n",
       "      <td>82 bhp</td>\n",
       "      <td>114Nm@ 4000rpm</td>\n",
       "      <td>5.0</td>\n",
       "    </tr>\n",
       "    <tr>\n",
       "      <th>296</th>\n",
       "      <td>Maruti Swift VXI</td>\n",
       "      <td>2012.0</td>\n",
       "      <td>330000.0</td>\n",
       "      <td>50000</td>\n",
       "      <td>Petrol</td>\n",
       "      <td>Individual</td>\n",
       "      <td>Manual</td>\n",
       "      <td>Second Owner</td>\n",
       "      <td>18.6 kmpl</td>\n",
       "      <td>1197 CC</td>\n",
       "      <td>85.8 bhp</td>\n",
       "      <td>114Nm@ 4000rpm</td>\n",
       "      <td>5.0</td>\n",
       "    </tr>\n",
       "    <tr>\n",
       "      <th>370</th>\n",
       "      <td>Jaguar XE 2016-2019 2.0L Diesel Prestige</td>\n",
       "      <td>2017.0</td>\n",
       "      <td>2625000.0</td>\n",
       "      <td>9000</td>\n",
       "      <td>Diesel</td>\n",
       "      <td>Dealer</td>\n",
       "      <td>Automatic</td>\n",
       "      <td>First Owner</td>\n",
       "      <td>13.6 kmpl</td>\n",
       "      <td>1999 CC</td>\n",
       "      <td>177 bhp</td>\n",
       "      <td>430Nm@ 1750-2500rpm</td>\n",
       "      <td>5.0</td>\n",
       "    </tr>\n",
       "    <tr>\n",
       "      <th>371</th>\n",
       "      <td>Lexus ES 300h</td>\n",
       "      <td>2019.0</td>\n",
       "      <td>5150000.0</td>\n",
       "      <td>20000</td>\n",
       "      <td>Petrol</td>\n",
       "      <td>Dealer</td>\n",
       "      <td>Automatic</td>\n",
       "      <td>First Owner</td>\n",
       "      <td>22.37 kmpl</td>\n",
       "      <td>2487 CC</td>\n",
       "      <td>214.56 bhp</td>\n",
       "      <td>202Nm@ 3600-5200rpm</td>\n",
       "      <td>5.0</td>\n",
       "    </tr>\n",
       "    <tr>\n",
       "      <th>372</th>\n",
       "      <td>Jaguar XF 2.0 Diesel Portfolio</td>\n",
       "      <td>2017.0</td>\n",
       "      <td>3200000.0</td>\n",
       "      <td>45000</td>\n",
       "      <td>Diesel</td>\n",
       "      <td>Dealer</td>\n",
       "      <td>Automatic</td>\n",
       "      <td>First Owner</td>\n",
       "      <td>19.33 kmpl</td>\n",
       "      <td>1999 CC</td>\n",
       "      <td>177 bhp</td>\n",
       "      <td>430Nm@ 1750-2500rpm</td>\n",
       "      <td>5.0</td>\n",
       "    </tr>\n",
       "    <tr>\n",
       "      <th>...</th>\n",
       "      <td>...</td>\n",
       "      <td>...</td>\n",
       "      <td>...</td>\n",
       "      <td>...</td>\n",
       "      <td>...</td>\n",
       "      <td>...</td>\n",
       "      <td>...</td>\n",
       "      <td>...</td>\n",
       "      <td>...</td>\n",
       "      <td>...</td>\n",
       "      <td>...</td>\n",
       "      <td>...</td>\n",
       "      <td>...</td>\n",
       "    </tr>\n",
       "    <tr>\n",
       "      <th>7987</th>\n",
       "      <td>Renault Captur 1.5 Diesel RXT</td>\n",
       "      <td>2018.0</td>\n",
       "      <td>1265000.0</td>\n",
       "      <td>12000</td>\n",
       "      <td>Diesel</td>\n",
       "      <td>Individual</td>\n",
       "      <td>Manual</td>\n",
       "      <td>First Owner</td>\n",
       "      <td>20.37 kmpl</td>\n",
       "      <td>1461 CC</td>\n",
       "      <td>108.45 bhp</td>\n",
       "      <td>240Nm@ 1750rpm</td>\n",
       "      <td>5.0</td>\n",
       "    </tr>\n",
       "    <tr>\n",
       "      <th>7988</th>\n",
       "      <td>Maruti Ciaz Alpha Diesel</td>\n",
       "      <td>2019.0</td>\n",
       "      <td>1025000.0</td>\n",
       "      <td>32000</td>\n",
       "      <td>Diesel</td>\n",
       "      <td>Individual</td>\n",
       "      <td>Manual</td>\n",
       "      <td>First Owner</td>\n",
       "      <td>28.09 kmpl</td>\n",
       "      <td>1248 CC</td>\n",
       "      <td>88.50 bhp</td>\n",
       "      <td>200Nm@ 1750rpm</td>\n",
       "      <td>5.0</td>\n",
       "    </tr>\n",
       "    <tr>\n",
       "      <th>8117</th>\n",
       "      <td>Maruti Swift Dzire VDI</td>\n",
       "      <td>2015.0</td>\n",
       "      <td>625000.0</td>\n",
       "      <td>50000</td>\n",
       "      <td>Diesel</td>\n",
       "      <td>Individual</td>\n",
       "      <td>Manual</td>\n",
       "      <td>First Owner</td>\n",
       "      <td>26.59 kmpl</td>\n",
       "      <td>1248 CC</td>\n",
       "      <td>74 bhp</td>\n",
       "      <td>190Nm@ 2000rpm</td>\n",
       "      <td>5.0</td>\n",
       "    </tr>\n",
       "    <tr>\n",
       "      <th>8126</th>\n",
       "      <td>Tata Indigo CR4</td>\n",
       "      <td>2013.0</td>\n",
       "      <td>290000.0</td>\n",
       "      <td>25000</td>\n",
       "      <td>Diesel</td>\n",
       "      <td>Individual</td>\n",
       "      <td>Manual</td>\n",
       "      <td>First Owner</td>\n",
       "      <td>23.57 kmpl</td>\n",
       "      <td>1396 CC</td>\n",
       "      <td>70 bhp</td>\n",
       "      <td>140Nm@ 1800-3000rpm</td>\n",
       "      <td>5.0</td>\n",
       "    </tr>\n",
       "    <tr>\n",
       "      <th>8127</th>\n",
       "      <td>Tata Indigo CR4</td>\n",
       "      <td>2013.0</td>\n",
       "      <td>290000.0</td>\n",
       "      <td>25000</td>\n",
       "      <td>Diesel</td>\n",
       "      <td>Individual</td>\n",
       "      <td>Manual</td>\n",
       "      <td>First Owner</td>\n",
       "      <td>23.57 kmpl</td>\n",
       "      <td>1396 CC</td>\n",
       "      <td>70 bhp</td>\n",
       "      <td>140Nm@ 1800-3000rpm</td>\n",
       "      <td>5.0</td>\n",
       "    </tr>\n",
       "  </tbody>\n",
       "</table>\n",
       "<p>1202 rows × 13 columns</p>\n",
       "</div>"
      ],
      "text/plain": [
       "                                          name    year  selling_price  \\\n",
       "291                   Hyundai Grand i10 Sportz  2017.0       450000.0   \n",
       "296                           Maruti Swift VXI  2012.0       330000.0   \n",
       "370   Jaguar XE 2016-2019 2.0L Diesel Prestige  2017.0      2625000.0   \n",
       "371                              Lexus ES 300h  2019.0      5150000.0   \n",
       "372             Jaguar XF 2.0 Diesel Portfolio  2017.0      3200000.0   \n",
       "...                                        ...     ...            ...   \n",
       "7987             Renault Captur 1.5 Diesel RXT  2018.0      1265000.0   \n",
       "7988                  Maruti Ciaz Alpha Diesel  2019.0      1025000.0   \n",
       "8117                    Maruti Swift Dzire VDI  2015.0       625000.0   \n",
       "8126                           Tata Indigo CR4  2013.0       290000.0   \n",
       "8127                           Tata Indigo CR4  2013.0       290000.0   \n",
       "\n",
       "      km_driven    fuel seller_type transmission         owner     mileage  \\\n",
       "291       35000  Petrol  Individual       Manual   First Owner   18.9 kmpl   \n",
       "296       50000  Petrol  Individual       Manual  Second Owner   18.6 kmpl   \n",
       "370        9000  Diesel      Dealer    Automatic   First Owner   13.6 kmpl   \n",
       "371       20000  Petrol      Dealer    Automatic   First Owner  22.37 kmpl   \n",
       "372       45000  Diesel      Dealer    Automatic   First Owner  19.33 kmpl   \n",
       "...         ...     ...         ...          ...           ...         ...   \n",
       "7987      12000  Diesel  Individual       Manual   First Owner  20.37 kmpl   \n",
       "7988      32000  Diesel  Individual       Manual   First Owner  28.09 kmpl   \n",
       "8117      50000  Diesel  Individual       Manual   First Owner  26.59 kmpl   \n",
       "8126      25000  Diesel  Individual       Manual   First Owner  23.57 kmpl   \n",
       "8127      25000  Diesel  Individual       Manual   First Owner  23.57 kmpl   \n",
       "\n",
       "       engine   max_power               torque  seats  \n",
       "291   1197 CC      82 bhp       114Nm@ 4000rpm    5.0  \n",
       "296   1197 CC    85.8 bhp       114Nm@ 4000rpm    5.0  \n",
       "370   1999 CC     177 bhp  430Nm@ 1750-2500rpm    5.0  \n",
       "371   2487 CC  214.56 bhp  202Nm@ 3600-5200rpm    5.0  \n",
       "372   1999 CC     177 bhp  430Nm@ 1750-2500rpm    5.0  \n",
       "...       ...         ...                  ...    ...  \n",
       "7987  1461 CC  108.45 bhp       240Nm@ 1750rpm    5.0  \n",
       "7988  1248 CC   88.50 bhp       200Nm@ 1750rpm    5.0  \n",
       "8117  1248 CC      74 bhp       190Nm@ 2000rpm    5.0  \n",
       "8126  1396 CC      70 bhp  140Nm@ 1800-3000rpm    5.0  \n",
       "8127  1396 CC      70 bhp  140Nm@ 1800-3000rpm    5.0  \n",
       "\n",
       "[1202 rows x 13 columns]"
      ]
     },
     "execution_count": 80,
     "metadata": {},
     "output_type": "execute_result"
    }
   ],
   "source": [
    "df[df.duplicated()]"
   ]
  },
  {
   "cell_type": "code",
   "execution_count": 81,
   "id": "c1c83112-a2b1-44f6-8b22-308b833cb39d",
   "metadata": {},
   "outputs": [
    {
     "data": {
      "text/plain": [
       "1202"
      ]
     },
     "execution_count": 81,
     "metadata": {},
     "output_type": "execute_result"
    }
   ],
   "source": [
    "df.duplicated().sum()"
   ]
  },
  {
   "cell_type": "code",
   "execution_count": 83,
   "id": "d8c0ab34-9bcc-4f5b-8e7b-fb5cf0e8a677",
   "metadata": {},
   "outputs": [],
   "source": [
    "df.drop_duplicates(inplace=True)"
   ]
  },
  {
   "cell_type": "code",
   "execution_count": 85,
   "id": "062f9059-0afa-48d0-b247-582a1a1e2f21",
   "metadata": {},
   "outputs": [
    {
     "data": {
      "text/html": [
       "<div>\n",
       "<style scoped>\n",
       "    .dataframe tbody tr th:only-of-type {\n",
       "        vertical-align: middle;\n",
       "    }\n",
       "\n",
       "    .dataframe tbody tr th {\n",
       "        vertical-align: top;\n",
       "    }\n",
       "\n",
       "    .dataframe thead th {\n",
       "        text-align: right;\n",
       "    }\n",
       "</style>\n",
       "<table border=\"1\" class=\"dataframe\">\n",
       "  <thead>\n",
       "    <tr style=\"text-align: right;\">\n",
       "      <th></th>\n",
       "      <th>name</th>\n",
       "      <th>year</th>\n",
       "      <th>selling_price</th>\n",
       "      <th>km_driven</th>\n",
       "      <th>fuel</th>\n",
       "      <th>seller_type</th>\n",
       "      <th>transmission</th>\n",
       "      <th>owner</th>\n",
       "      <th>mileage</th>\n",
       "      <th>engine</th>\n",
       "      <th>max_power</th>\n",
       "      <th>torque</th>\n",
       "      <th>seats</th>\n",
       "    </tr>\n",
       "  </thead>\n",
       "  <tbody>\n",
       "  </tbody>\n",
       "</table>\n",
       "</div>"
      ],
      "text/plain": [
       "Empty DataFrame\n",
       "Columns: [name, year, selling_price, km_driven, fuel, seller_type, transmission, owner, mileage, engine, max_power, torque, seats]\n",
       "Index: []"
      ]
     },
     "execution_count": 85,
     "metadata": {},
     "output_type": "execute_result"
    }
   ],
   "source": [
    "df[df.duplicated()]"
   ]
  },
  {
   "cell_type": "markdown",
   "id": "a615fa4c-65ab-499a-a7bf-0ab50842ebf0",
   "metadata": {},
   "source": [
    "## Normalisasi Data Salah Satu Atribut Menggunakan MinMaxScaler"
   ]
  },
  {
   "cell_type": "markdown",
   "id": "cf059f6d-d51e-4192-a849-b9a44d737f99",
   "metadata": {},
   "source": [
    "## Copy Dataset"
   ]
  },
  {
   "cell_type": "code",
   "execution_count": 86,
   "id": "bedfef8a-4eb6-4eb5-aa8e-f379250ef1da",
   "metadata": {},
   "outputs": [],
   "source": [
    "df2 = df.copy()"
   ]
  },
  {
   "cell_type": "markdown",
   "id": "b8d55b25-cd76-4588-996a-72c55877c074",
   "metadata": {},
   "source": [
    "## Proses Normalisasi"
   ]
  },
  {
   "cell_type": "code",
   "execution_count": 87,
   "id": "64738661-d009-47a0-884f-67bc9d022431",
   "metadata": {},
   "outputs": [],
   "source": [
    "from sklearn.preprocessing import MinMaxScaler"
   ]
  },
  {
   "cell_type": "code",
   "execution_count": 88,
   "id": "135a866f-f853-4b9b-b4b0-ed24df461e93",
   "metadata": {},
   "outputs": [],
   "source": [
    "min_max_scaler = MinMaxScaler()"
   ]
  },
  {
   "cell_type": "code",
   "execution_count": 89,
   "id": "66d26061-dd98-4c9b-9e09-d1c6142ec9bb",
   "metadata": {},
   "outputs": [],
   "source": [
    "X_df2 = min_max_scaler.fit_transform(\n",
    "    df[['year', 'selling_price', 'km_driven', 'seats']]\n",
    ")"
   ]
  },
  {
   "cell_type": "code",
   "execution_count": 90,
   "id": "8b9821cf-3389-4116-ac4d-732755a28279",
   "metadata": {},
   "outputs": [
    {
     "data": {
      "text/html": [
       "<div>\n",
       "<style scoped>\n",
       "    .dataframe tbody tr th:only-of-type {\n",
       "        vertical-align: middle;\n",
       "    }\n",
       "\n",
       "    .dataframe tbody tr th {\n",
       "        vertical-align: top;\n",
       "    }\n",
       "\n",
       "    .dataframe thead th {\n",
       "        text-align: right;\n",
       "    }\n",
       "</style>\n",
       "<table border=\"1\" class=\"dataframe\">\n",
       "  <thead>\n",
       "    <tr style=\"text-align: right;\">\n",
       "      <th></th>\n",
       "      <th>0</th>\n",
       "      <th>1</th>\n",
       "      <th>2</th>\n",
       "      <th>3</th>\n",
       "    </tr>\n",
       "  </thead>\n",
       "  <tbody>\n",
       "    <tr>\n",
       "      <th>0</th>\n",
       "      <td>0.837838</td>\n",
       "      <td>0.042126</td>\n",
       "      <td>0.061640</td>\n",
       "      <td>0.25</td>\n",
       "    </tr>\n",
       "    <tr>\n",
       "      <th>1</th>\n",
       "      <td>0.837838</td>\n",
       "      <td>0.034102</td>\n",
       "      <td>0.050837</td>\n",
       "      <td>0.25</td>\n",
       "    </tr>\n",
       "    <tr>\n",
       "      <th>2</th>\n",
       "      <td>0.621622</td>\n",
       "      <td>0.012839</td>\n",
       "      <td>0.059310</td>\n",
       "      <td>0.25</td>\n",
       "    </tr>\n",
       "    <tr>\n",
       "      <th>3</th>\n",
       "      <td>0.729730</td>\n",
       "      <td>0.019559</td>\n",
       "      <td>0.053803</td>\n",
       "      <td>0.25</td>\n",
       "    </tr>\n",
       "    <tr>\n",
       "      <th>4</th>\n",
       "      <td>0.648649</td>\n",
       "      <td>0.010030</td>\n",
       "      <td>0.050837</td>\n",
       "      <td>0.25</td>\n",
       "    </tr>\n",
       "  </tbody>\n",
       "</table>\n",
       "</div>"
      ],
      "text/plain": [
       "          0         1         2     3\n",
       "0  0.837838  0.042126  0.061640  0.25\n",
       "1  0.837838  0.034102  0.050837  0.25\n",
       "2  0.621622  0.012839  0.059310  0.25\n",
       "3  0.729730  0.019559  0.053803  0.25\n",
       "4  0.648649  0.010030  0.050837  0.25"
      ]
     },
     "execution_count": 90,
     "metadata": {},
     "output_type": "execute_result"
    }
   ],
   "source": [
    "data_normalization = pd.DataFrame(X_df2)\n",
    "data_normalization.head()"
   ]
  },
  {
   "cell_type": "markdown",
   "id": "979e944d-1a87-40f6-9789-02dbe1cd5242",
   "metadata": {},
   "source": [
    "## Standarisasi Pada Dataset"
   ]
  },
  {
   "cell_type": "markdown",
   "id": "b6414f4a-8a0b-4dac-9a9d-1a3cea022023",
   "metadata": {},
   "source": [
    "## Copy Dataset"
   ]
  },
  {
   "cell_type": "code",
   "execution_count": 91,
   "id": "15d3b79a-bf88-4d70-a360-04f33daad518",
   "metadata": {},
   "outputs": [],
   "source": [
    "df2 = df.copy()"
   ]
  },
  {
   "cell_type": "markdown",
   "id": "693de4d2-d5a8-4137-99ce-625c847417d5",
   "metadata": {},
   "source": [
    "## Proses Standarisasi"
   ]
  },
  {
   "cell_type": "code",
   "execution_count": 94,
   "id": "08bdf224-abf5-4a47-8edf-959841f46bbb",
   "metadata": {},
   "outputs": [
    {
     "data": {
      "text/plain": [
       "year                  4.077992\n",
       "selling_price    519729.461747\n",
       "km_driven         58353.882051\n",
       "seats                 0.969271\n",
       "dtype: float64"
      ]
     },
     "execution_count": 94,
     "metadata": {},
     "output_type": "execute_result"
    }
   ],
   "source": [
    "np.std(df2)"
   ]
  },
  {
   "cell_type": "code",
   "execution_count": 93,
   "id": "4672431c-9569-4fc5-87e1-038d8f134e62",
   "metadata": {},
   "outputs": [],
   "source": [
    "from sklearn.preprocessing import StandardScaler"
   ]
  },
  {
   "cell_type": "code",
   "execution_count": null,
   "id": "40da1c2f-515d-459f-9539-599426131e3f",
   "metadata": {},
   "outputs": [],
   "source": [
    "ss = StandardScaler()"
   ]
  },
  {
   "cell_type": "code",
   "execution_count": null,
   "id": "cc3fe161-6d31-43a5-8bfa-b17547480a58",
   "metadata": {},
   "outputs": [],
   "source": [
    "X_df2 = ss.fit_transform(\n",
    "    df[['year', 'selling_price', 'km_driven', 'seats']]\n",
    ")"
   ]
  },
  {
   "cell_type": "code",
   "execution_count": 95,
   "id": "4edd8810-5c82-433b-8092-e085659cf9da",
   "metadata": {},
   "outputs": [
    {
     "data": {
      "text/html": [
       "<div>\n",
       "<style scoped>\n",
       "    .dataframe tbody tr th:only-of-type {\n",
       "        vertical-align: middle;\n",
       "    }\n",
       "\n",
       "    .dataframe tbody tr th {\n",
       "        vertical-align: top;\n",
       "    }\n",
       "\n",
       "    .dataframe thead th {\n",
       "        text-align: right;\n",
       "    }\n",
       "</style>\n",
       "<table border=\"1\" class=\"dataframe\">\n",
       "  <thead>\n",
       "    <tr style=\"text-align: right;\">\n",
       "      <th></th>\n",
       "      <th>0</th>\n",
       "      <th>1</th>\n",
       "      <th>2</th>\n",
       "      <th>3</th>\n",
       "    </tr>\n",
       "  </thead>\n",
       "  <tbody>\n",
       "    <tr>\n",
       "      <th>0</th>\n",
       "      <td>0.837838</td>\n",
       "      <td>0.042126</td>\n",
       "      <td>0.061640</td>\n",
       "      <td>0.25</td>\n",
       "    </tr>\n",
       "    <tr>\n",
       "      <th>1</th>\n",
       "      <td>0.837838</td>\n",
       "      <td>0.034102</td>\n",
       "      <td>0.050837</td>\n",
       "      <td>0.25</td>\n",
       "    </tr>\n",
       "    <tr>\n",
       "      <th>2</th>\n",
       "      <td>0.621622</td>\n",
       "      <td>0.012839</td>\n",
       "      <td>0.059310</td>\n",
       "      <td>0.25</td>\n",
       "    </tr>\n",
       "    <tr>\n",
       "      <th>3</th>\n",
       "      <td>0.729730</td>\n",
       "      <td>0.019559</td>\n",
       "      <td>0.053803</td>\n",
       "      <td>0.25</td>\n",
       "    </tr>\n",
       "    <tr>\n",
       "      <th>4</th>\n",
       "      <td>0.648649</td>\n",
       "      <td>0.010030</td>\n",
       "      <td>0.050837</td>\n",
       "      <td>0.25</td>\n",
       "    </tr>\n",
       "  </tbody>\n",
       "</table>\n",
       "</div>"
      ],
      "text/plain": [
       "          0         1         2     3\n",
       "0  0.837838  0.042126  0.061640  0.25\n",
       "1  0.837838  0.034102  0.050837  0.25\n",
       "2  0.621622  0.012839  0.059310  0.25\n",
       "3  0.729730  0.019559  0.053803  0.25\n",
       "4  0.648649  0.010030  0.050837  0.25"
      ]
     },
     "execution_count": 95,
     "metadata": {},
     "output_type": "execute_result"
    }
   ],
   "source": [
    "data_standarization = pd.DataFrame(X_df2)\n",
    "data_standarization.head()"
   ]
  },
  {
   "cell_type": "code",
   "execution_count": 96,
   "id": "d79c14aa-7858-420b-9e49-62b0b125326e",
   "metadata": {},
   "outputs": [
    {
     "data": {
      "text/plain": [
       "0.3278944535117712"
      ]
     },
     "execution_count": 96,
     "metadata": {},
     "output_type": "execute_result"
    }
   ],
   "source": [
    "np.std(X_df2)"
   ]
  },
  {
   "cell_type": "code",
   "execution_count": 97,
   "id": "d6756b34-e798-400f-b2b4-4f35408fa16a",
   "metadata": {},
   "outputs": [
    {
     "data": {
      "text/plain": [
       "0.29714197454566743"
      ]
     },
     "execution_count": 97,
     "metadata": {},
     "output_type": "execute_result"
    }
   ],
   "source": [
    "np.mean(X_df2)"
   ]
  },
  {
   "cell_type": "markdown",
   "id": "dd24f3cb-d8ea-43ae-bb54-c93296cd4ac9",
   "metadata": {},
   "source": [
    "## Mengganti Tipe Data Salah Satu Atribut Angka"
   ]
  },
  {
   "cell_type": "code",
   "execution_count": 98,
   "id": "18970eba-3fe2-4b28-894e-399a6b9d6d35",
   "metadata": {},
   "outputs": [
    {
     "data": {
      "text/plain": [
       "name              object\n",
       "year             float64\n",
       "selling_price    float64\n",
       "km_driven          int64\n",
       "fuel              object\n",
       "seller_type       object\n",
       "transmission      object\n",
       "owner             object\n",
       "mileage           object\n",
       "engine            object\n",
       "max_power         object\n",
       "torque            object\n",
       "seats            float64\n",
       "dtype: object"
      ]
     },
     "execution_count": 98,
     "metadata": {},
     "output_type": "execute_result"
    }
   ],
   "source": [
    "df.dtypes"
   ]
  },
  {
   "cell_type": "code",
   "execution_count": 99,
   "id": "1ef0851e-1453-45c0-bdb5-f72901a79c2d",
   "metadata": {},
   "outputs": [],
   "source": [
    "df[\"seats\"] = df[\"seats\"].astype(\"int\")"
   ]
  },
  {
   "cell_type": "code",
   "execution_count": 100,
   "id": "11dafffa-fadc-49ad-bc01-aeb11d15456b",
   "metadata": {},
   "outputs": [
    {
     "data": {
      "text/plain": [
       "name              object\n",
       "year             float64\n",
       "selling_price    float64\n",
       "km_driven          int64\n",
       "fuel              object\n",
       "seller_type       object\n",
       "transmission      object\n",
       "owner             object\n",
       "mileage           object\n",
       "engine            object\n",
       "max_power         object\n",
       "torque            object\n",
       "seats              int32\n",
       "dtype: object"
      ]
     },
     "execution_count": 100,
     "metadata": {},
     "output_type": "execute_result"
    }
   ],
   "source": [
    "df.dtypes"
   ]
  },
  {
   "cell_type": "markdown",
   "id": "31ec4a64-666a-44a4-b41c-c63120e8c060",
   "metadata": {},
   "source": [
    "## One Hot Encoding Pada Dataset"
   ]
  },
  {
   "cell_type": "code",
   "execution_count": 101,
   "id": "832e4a3f-c853-4734-8eb4-6359053d0956",
   "metadata": {},
   "outputs": [],
   "source": [
    "from sklearn.preprocessing import OneHotEncoder"
   ]
  },
  {
   "cell_type": "code",
   "execution_count": 102,
   "id": "68ad29d2-43df-4aaf-85ad-d1549f47a46c",
   "metadata": {},
   "outputs": [],
   "source": [
    "onehotencoder = OneHotEncoder(sparse=False)"
   ]
  },
  {
   "cell_type": "code",
   "execution_count": 113,
   "id": "c8580c73-4373-4191-b716-c6cfb97945eb",
   "metadata": {},
   "outputs": [],
   "source": [
    "owner_encoded2 = onehotencoder.fit_transform(df[[\"owner\"]])"
   ]
  },
  {
   "cell_type": "code",
   "execution_count": 116,
   "id": "28329e7b-2752-44ef-8083-7a6a983e7d12",
   "metadata": {},
   "outputs": [],
   "source": [
    "df2 = pd.DataFrame(owner_encoded2)\n",
    "df = df.join(df2)"
   ]
  },
  {
   "cell_type": "code",
   "execution_count": 117,
   "id": "7cb50cc5-5f9a-44ca-bb82-40532887b5aa",
   "metadata": {},
   "outputs": [
    {
     "data": {
      "text/html": [
       "<div>\n",
       "<style scoped>\n",
       "    .dataframe tbody tr th:only-of-type {\n",
       "        vertical-align: middle;\n",
       "    }\n",
       "\n",
       "    .dataframe tbody tr th {\n",
       "        vertical-align: top;\n",
       "    }\n",
       "\n",
       "    .dataframe thead th {\n",
       "        text-align: right;\n",
       "    }\n",
       "</style>\n",
       "<table border=\"1\" class=\"dataframe\">\n",
       "  <thead>\n",
       "    <tr style=\"text-align: right;\">\n",
       "      <th></th>\n",
       "      <th>name</th>\n",
       "      <th>year</th>\n",
       "      <th>selling_price</th>\n",
       "      <th>km_driven</th>\n",
       "      <th>fuel</th>\n",
       "      <th>seller_type</th>\n",
       "      <th>transmission</th>\n",
       "      <th>owner</th>\n",
       "      <th>mileage</th>\n",
       "      <th>engine</th>\n",
       "      <th>max_power</th>\n",
       "      <th>torque</th>\n",
       "      <th>seats</th>\n",
       "      <th>0</th>\n",
       "      <th>1</th>\n",
       "      <th>2</th>\n",
       "      <th>3</th>\n",
       "      <th>4</th>\n",
       "    </tr>\n",
       "  </thead>\n",
       "  <tbody>\n",
       "    <tr>\n",
       "      <th>0</th>\n",
       "      <td>Maruti Swift Dzire VDI</td>\n",
       "      <td>2014.0</td>\n",
       "      <td>450000.0</td>\n",
       "      <td>145500</td>\n",
       "      <td>Diesel</td>\n",
       "      <td>Individual</td>\n",
       "      <td>Manual</td>\n",
       "      <td>First Owner</td>\n",
       "      <td>23.4 kmpl</td>\n",
       "      <td>1248 CC</td>\n",
       "      <td>74 bhp</td>\n",
       "      <td>190Nm@ 2000rpm</td>\n",
       "      <td>5</td>\n",
       "      <td>1.0</td>\n",
       "      <td>0.0</td>\n",
       "      <td>0.0</td>\n",
       "      <td>0.0</td>\n",
       "      <td>0.0</td>\n",
       "    </tr>\n",
       "    <tr>\n",
       "      <th>1</th>\n",
       "      <td>Skoda Rapid 1.5 TDI Ambition</td>\n",
       "      <td>2014.0</td>\n",
       "      <td>370000.0</td>\n",
       "      <td>120000</td>\n",
       "      <td>Diesel</td>\n",
       "      <td>Individual</td>\n",
       "      <td>Manual</td>\n",
       "      <td>Second Owner</td>\n",
       "      <td>21.14 kmpl</td>\n",
       "      <td>1498 CC</td>\n",
       "      <td>103.52 bhp</td>\n",
       "      <td>250Nm@ 1500-2500rpm</td>\n",
       "      <td>5</td>\n",
       "      <td>0.0</td>\n",
       "      <td>0.0</td>\n",
       "      <td>1.0</td>\n",
       "      <td>0.0</td>\n",
       "      <td>0.0</td>\n",
       "    </tr>\n",
       "    <tr>\n",
       "      <th>2</th>\n",
       "      <td>Honda City 2017-2020 EXi</td>\n",
       "      <td>2006.0</td>\n",
       "      <td>158000.0</td>\n",
       "      <td>140000</td>\n",
       "      <td>Petrol</td>\n",
       "      <td>Individual</td>\n",
       "      <td>Manual</td>\n",
       "      <td>Third Owner</td>\n",
       "      <td>17.7 kmpl</td>\n",
       "      <td>1497 CC</td>\n",
       "      <td>78 bhp</td>\n",
       "      <td>12.7@ 2,700(kgm@ rpm)</td>\n",
       "      <td>5</td>\n",
       "      <td>0.0</td>\n",
       "      <td>0.0</td>\n",
       "      <td>0.0</td>\n",
       "      <td>0.0</td>\n",
       "      <td>1.0</td>\n",
       "    </tr>\n",
       "    <tr>\n",
       "      <th>3</th>\n",
       "      <td>Hyundai i20 Sportz Diesel</td>\n",
       "      <td>2010.0</td>\n",
       "      <td>225000.0</td>\n",
       "      <td>127000</td>\n",
       "      <td>Diesel</td>\n",
       "      <td>Individual</td>\n",
       "      <td>Manual</td>\n",
       "      <td>First Owner</td>\n",
       "      <td>23.0 kmpl</td>\n",
       "      <td>1396 CC</td>\n",
       "      <td>90 bhp</td>\n",
       "      <td>22.4 kgm at 1750-2750rpm</td>\n",
       "      <td>5</td>\n",
       "      <td>1.0</td>\n",
       "      <td>0.0</td>\n",
       "      <td>0.0</td>\n",
       "      <td>0.0</td>\n",
       "      <td>0.0</td>\n",
       "    </tr>\n",
       "    <tr>\n",
       "      <th>4</th>\n",
       "      <td>Maruti Swift VXI BSIII</td>\n",
       "      <td>2007.0</td>\n",
       "      <td>130000.0</td>\n",
       "      <td>120000</td>\n",
       "      <td>Petrol</td>\n",
       "      <td>Individual</td>\n",
       "      <td>Manual</td>\n",
       "      <td>First Owner</td>\n",
       "      <td>16.1 kmpl</td>\n",
       "      <td>1298 CC</td>\n",
       "      <td>88.2 bhp</td>\n",
       "      <td>11.5@ 4,500(kgm@ rpm)</td>\n",
       "      <td>5</td>\n",
       "      <td>1.0</td>\n",
       "      <td>0.0</td>\n",
       "      <td>0.0</td>\n",
       "      <td>0.0</td>\n",
       "      <td>0.0</td>\n",
       "    </tr>\n",
       "  </tbody>\n",
       "</table>\n",
       "</div>"
      ],
      "text/plain": [
       "                           name    year  selling_price  km_driven    fuel  \\\n",
       "0        Maruti Swift Dzire VDI  2014.0       450000.0     145500  Diesel   \n",
       "1  Skoda Rapid 1.5 TDI Ambition  2014.0       370000.0     120000  Diesel   \n",
       "2      Honda City 2017-2020 EXi  2006.0       158000.0     140000  Petrol   \n",
       "3     Hyundai i20 Sportz Diesel  2010.0       225000.0     127000  Diesel   \n",
       "4        Maruti Swift VXI BSIII  2007.0       130000.0     120000  Petrol   \n",
       "\n",
       "  seller_type transmission         owner     mileage   engine   max_power  \\\n",
       "0  Individual       Manual   First Owner   23.4 kmpl  1248 CC      74 bhp   \n",
       "1  Individual       Manual  Second Owner  21.14 kmpl  1498 CC  103.52 bhp   \n",
       "2  Individual       Manual   Third Owner   17.7 kmpl  1497 CC      78 bhp   \n",
       "3  Individual       Manual   First Owner   23.0 kmpl  1396 CC      90 bhp   \n",
       "4  Individual       Manual   First Owner   16.1 kmpl  1298 CC    88.2 bhp   \n",
       "\n",
       "                     torque  seats    0    1    2    3    4  \n",
       "0            190Nm@ 2000rpm      5  1.0  0.0  0.0  0.0  0.0  \n",
       "1       250Nm@ 1500-2500rpm      5  0.0  0.0  1.0  0.0  0.0  \n",
       "2     12.7@ 2,700(kgm@ rpm)      5  0.0  0.0  0.0  0.0  1.0  \n",
       "3  22.4 kgm at 1750-2750rpm      5  1.0  0.0  0.0  0.0  0.0  \n",
       "4     11.5@ 4,500(kgm@ rpm)      5  1.0  0.0  0.0  0.0  0.0  "
      ]
     },
     "execution_count": 117,
     "metadata": {},
     "output_type": "execute_result"
    }
   ],
   "source": [
    "df.head()"
   ]
  },
  {
   "cell_type": "code",
   "execution_count": null,
   "id": "fa81fc14-d1c6-4901-a717-04d36c641f1e",
   "metadata": {},
   "outputs": [],
   "source": []
  },
  {
   "cell_type": "markdown",
   "id": "fed026dc",
   "metadata": {},
   "source": []
  }
 ],
 "metadata": {
  "kernelspec": {
   "display_name": "rezky_009",
   "language": "python",
   "name": "rezky_009"
  },
  "language_info": {
   "codemirror_mode": {
    "name": "ipython",
    "version": 3
   },
   "file_extension": ".py",
   "mimetype": "text/x-python",
   "name": "python",
   "nbconvert_exporter": "python",
   "pygments_lexer": "ipython3",
   "version": "3.10.7"
  }
 },
 "nbformat": 4,
 "nbformat_minor": 5
}
